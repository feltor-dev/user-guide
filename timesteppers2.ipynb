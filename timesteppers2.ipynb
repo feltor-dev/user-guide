{
 "cells": [
  {
   "cell_type": "code",
   "execution_count": 1,
   "id": "6c2bb9b1",
   "metadata": {
    "scrolled": true
   },
   "outputs": [
    {
     "name": "stderr",
     "output_type": "stream",
     "text": [
      "In file included from input_line_8:2:\n",
      "In file included from ../feltor/inc/dg/algorithm.h:8:\n",
      "\u001b[1m../feltor/inc/dg/backend/config.h:20:9: \u001b[0m\u001b[0;1;35mwarning: \u001b[0m\u001b[1mNOTE: Fast std::fma(a,b,c) not activated! Using a*b+c instead! [-W#pragma-messages]\u001b[0m\n",
      "#pragma message( \"NOTE: Fast std::fma(a,b,c) not activated! Using a*b+c instead!\")\n",
      "\u001b[0;1;32m        ^\n",
      "\u001b[0mIn file included from input_line_8:2:\n",
      "In file included from ../feltor/inc/dg/algorithm.h:11:\n",
      "In file included from ../feltor/inc/dg/topology/split_and_join.h:4:\n",
      "In file included from ../feltor/inc/dg/backend/blas1_dispatch_shared.h:12:\n",
      "In file included from ../feltor/inc/dg/backend/blas1_serial.h:6:\n",
      "In file included from ../feltor/inc/dg/backend/exblas/exdot_serial.h:25:\n",
      "In file included from ../feltor/inc/dg/backend/exblas/accumulate.h:19:\n",
      "\u001b[1m../feltor/inc/dg/backend/exblas/config.h:31:9: \u001b[0m\u001b[0;1;35mwarning: \u001b[0m\u001b[1mWARNING: Instruction set below SSE4.1! Deactivating vectorization!\n",
      "      [-W#pragma-messages]\u001b[0m\n",
      "#pragma message(\"WARNING: Instruction set below SSE4.1! Deactivating vectorization!\")\n",
      "\u001b[0;1;32m        ^\n",
      "\u001b[0mIn file included from input_line_8:2:\n",
      "In file included from ../feltor/inc/dg/algorithm.h:11:\n",
      "In file included from ../feltor/inc/dg/topology/split_and_join.h:4:\n",
      "In file included from ../feltor/inc/dg/backend/blas1_dispatch_shared.h:12:\n",
      "In file included from ../feltor/inc/dg/backend/blas1_serial.h:6:\n",
      "In file included from ../feltor/inc/dg/backend/exblas/exdot_serial.h:25:\n",
      "\u001b[1m../feltor/inc/dg/backend/exblas/accumulate.h:93:43: \u001b[0m\u001b[0;1;35mwarning: \u001b[0m\u001b[1mshifting a negative signed value is undefined [-Wshift-negative-value]\u001b[0m\n",
      "        carrybit = (s ? 1ll << KRX : -1ll << KRX);\n",
      "\u001b[0;1;32m                                     ~~~~ ^\n",
      "\u001b[0mIn file included from input_line_8:2:\n",
      "In file included from ../feltor/inc/dg/algorithm.h:11:\n",
      "In file included from ../feltor/inc/dg/topology/split_and_join.h:4:\n",
      "In file included from ../feltor/inc/dg/backend/blas1_dispatch_shared.h:12:\n",
      "In file included from ../feltor/inc/dg/backend/blas1_serial.h:6:\n",
      "In file included from ../feltor/inc/dg/backend/exblas/exdot_serial.h:26:\n",
      "\u001b[1m../feltor/inc/dg/backend/exblas/ExSUM.FPE.hpp:143:46: \u001b[0m\u001b[0;1;35mwarning: \u001b[0m\u001b[1munknown attribute 'optimize' ignored [-Wunknown-attributes]\u001b[0m\n",
      "template<typename T, int N, typename TRAITS> UNROLL_ATTRIBUTE\n",
      "\u001b[0;1;32m                                             ^\n",
      "\u001b[0m\u001b[1m../feltor/inc/dg/backend/exblas/config.h:42:41: \u001b[0m\u001b[0;1;30mnote: \u001b[0mexpanded from macro 'UNROLL_ATTRIBUTE'\u001b[0m\n",
      "#define UNROLL_ATTRIBUTE __attribute__((optimize(\"unroll-loops\")))\n",
      "\u001b[0;1;32m                                        ^\n",
      "\u001b[0mIn file included from input_line_8:2:\n",
      "In file included from ../feltor/inc/dg/algorithm.h:11:\n",
      "In file included from ../feltor/inc/dg/topology/split_and_join.h:4:\n",
      "In file included from ../feltor/inc/dg/backend/blas1_dispatch_shared.h:12:\n",
      "In file included from ../feltor/inc/dg/backend/blas1_serial.h:6:\n",
      "In file included from ../feltor/inc/dg/backend/exblas/exdot_serial.h:26:\n",
      "\u001b[1m../feltor/inc/dg/backend/exblas/ExSUM.FPE.hpp:189:46: \u001b[0m\u001b[0;1;35mwarning: \u001b[0m\u001b[1munknown attribute 'optimize' ignored [-Wunknown-attributes]\u001b[0m\n",
      "template<typename T, int N, typename TRAITS> UNROLL_ATTRIBUTE\n",
      "\u001b[0;1;32m                                             ^\n",
      "\u001b[0m\u001b[1m../feltor/inc/dg/backend/exblas/config.h:42:41: \u001b[0m\u001b[0;1;30mnote: \u001b[0mexpanded from macro 'UNROLL_ATTRIBUTE'\u001b[0m\n",
      "#define UNROLL_ATTRIBUTE __attribute__((optimize(\"unroll-loops\")))\n",
      "\u001b[0;1;32m                                        ^\n",
      "\u001b[0mIn file included from input_line_8:2:\n",
      "In file included from ../feltor/inc/dg/algorithm.h:11:\n",
      "In file included from ../feltor/inc/dg/topology/split_and_join.h:4:\n",
      "In file included from ../feltor/inc/dg/backend/blas1_dispatch_shared.h:12:\n",
      "In file included from ../feltor/inc/dg/backend/blas1_serial.h:6:\n",
      "In file included from ../feltor/inc/dg/backend/exblas/exdot_serial.h:26:\n",
      "\u001b[1m../feltor/inc/dg/backend/exblas/ExSUM.FPE.hpp:221:46: \u001b[0m\u001b[0;1;35mwarning: \u001b[0m\u001b[1munknown attribute 'optimize' ignored [-Wunknown-attributes]\u001b[0m\n",
      "template<typename T, int N, typename TRAITS> UNROLL_ATTRIBUTE\n",
      "\u001b[0;1;32m                                             ^\n",
      "\u001b[0m\u001b[1m../feltor/inc/dg/backend/exblas/config.h:42:41: \u001b[0m\u001b[0;1;30mnote: \u001b[0mexpanded from macro 'UNROLL_ATTRIBUTE'\u001b[0m\n",
      "#define UNROLL_ATTRIBUTE __attribute__((optimize(\"unroll-loops\")))\n",
      "\u001b[0;1;32m                                        ^\n",
      "\u001b[0m"
     ]
    }
   ],
   "source": [
    "#pragma cling add_include_path(\"../../include\")\n",
    "#pragma cling add_include_path(\"../feltor/inc\") // Feltor path\n",
    "#define THRUST_DEVICE_SYSTEM THRUST_DEVICE_SYSTEM_CPP\n",
    "#include <iostream>\n",
    "#include \"dg/algorithm.h\"\n",
    "// include json and netcdf?"
   ]
  },
  {
   "cell_type": "markdown",
   "id": "053e81cb",
   "metadata": {},
   "source": [
    "# Timesteppers for partial differential equations\n",
    "\n",
    "We now want to demonstrate how to use Feltor to solve partial differential equations.\n",
    "We use the simple advection diffusion equation as a model equation\n",
    "\\begin{align}\n",
    "    \\frac{\\partial \\omega}{\\partial t} &= -v\\cdot \\nabla\\omega + D \\Delta \\omega \\\\\n",
    "     -\\Delta \\phi &= \\omega \\\\\n",
    "     v_x &:= -\\partial_y \\phi \\\\\n",
    "     v_y &:= \\partial_x \\phi\n",
    "\\end{align}"
   ]
  },
  {
   "cell_type": "markdown",
   "id": "77febc51",
   "metadata": {},
   "source": [
    "## Explicit stepping\n",
    "As long as the diffusion coefficient is small enough to not influence the CFL condition we can compute everything explicitly. In Feltor we simply need a functor implementing the  right hand side"
   ]
  },
  {
   "cell_type": "code",
   "execution_count": null,
   "id": "57e24af8",
   "metadata": {},
   "outputs": [],
   "source": []
  },
  {
   "cell_type": "code",
   "execution_count": null,
   "id": "ae936980",
   "metadata": {},
   "outputs": [],
   "source": []
  }
 ],
 "metadata": {
  "kernelspec": {
   "display_name": "C++14",
   "language": "C++14",
   "name": "xcpp14"
  },
  "language_info": {
   "codemirror_mode": "text/x-c++src",
   "file_extension": ".cpp",
   "mimetype": "text/x-c++src",
   "name": "c++",
   "version": "14"
  }
 },
 "nbformat": 4,
 "nbformat_minor": 5
}
