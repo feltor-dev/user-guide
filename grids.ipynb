{
 "cells": [
  {
   "cell_type": "code",
   "execution_count": 1,
   "id": "7c2dae4e",
   "metadata": {
    "scrolled": true,
    "tags": [
     "remove-cell"
    ]
   },
   "outputs": [
    {
     "name": "stderr",
     "output_type": "stream",
     "text": [
      "In file included from input_line_8:2:\n",
      "In file included from ../../include/dg/algorithm.h:8:\n",
      "\u001b[1m../../include/dg/backend/config.h:20:9: \u001b[0m\u001b[0;1;35mwarning: \u001b[0m\u001b[1mNOTE: Fast std::fma(a,b,c) not activated! Using a*b+c instead!\n",
      "      [-W#pragma-messages]\u001b[0m\n",
      "#pragma message( \"NOTE: Fast std::fma(a,b,c) not activated! Using a*b+c ...\n",
      "\u001b[0;1;32m        ^\n",
      "\u001b[0mIn file included from input_line_8:2:\n",
      "In file included from ../../include/dg/algorithm.h:11:\n",
      "In file included from ../../include/dg/topology/split_and_join.h:4:\n",
      "In file included from ../../include/dg/backend/blas1_dispatch_shared.h:12:\n",
      "In file included from ../../include/dg/backend/blas1_serial.h:6:\n",
      "In file included from ../../include/dg/backend/exblas/exdot_serial.h:25:\n",
      "In file included from ../../include/dg/backend/exblas/accumulate.h:19:\n",
      "\u001b[1m../../include/dg/backend/exblas/config.h:31:9: \u001b[0m\u001b[0;1;35mwarning: \u001b[0m\u001b[1mWARNING: Instruction set below SSE4.1! Deactivating vectorization!\n",
      "      [-W#pragma-messages]\u001b[0m\n",
      "#pragma message(\"WARNING: Instruction set below SSE4.1! Deactivating vec...\n",
      "\u001b[0;1;32m        ^\n",
      "\u001b[0mIn file included from input_line_8:2:\n",
      "In file included from ../../include/dg/algorithm.h:11:\n",
      "In file included from ../../include/dg/topology/split_and_join.h:4:\n",
      "In file included from ../../include/dg/backend/blas1_dispatch_shared.h:12:\n",
      "In file included from ../../include/dg/backend/blas1_serial.h:6:\n",
      "In file included from ../../include/dg/backend/exblas/exdot_serial.h:25:\n",
      "\u001b[1m../../include/dg/backend/exblas/accumulate.h:93:43: \u001b[0m\u001b[0;1;35mwarning: \u001b[0m\u001b[1mshifting a negative signed value is undefined [-Wshift-negative-value]\u001b[0m\n",
      "        carrybit = (s ? 1ll << KRX : -1ll << KRX);\n",
      "\u001b[0;1;32m                                     ~~~~ ^\n",
      "\u001b[0mIn file included from input_line_8:2:\n",
      "In file included from ../../include/dg/algorithm.h:11:\n",
      "In file included from ../../include/dg/topology/split_and_join.h:4:\n",
      "In file included from ../../include/dg/backend/blas1_dispatch_shared.h:12:\n",
      "In file included from ../../include/dg/backend/blas1_serial.h:6:\n",
      "In file included from ../../include/dg/backend/exblas/exdot_serial.h:26:\n",
      "\u001b[1m../../include/dg/backend/exblas/ExSUM.FPE.hpp:143:46: \u001b[0m\u001b[0;1;35mwarning: \u001b[0m\u001b[1munknown attribute 'optimize' ignored [-Wunknown-attributes]\u001b[0m\n",
      "template<typename T, int N, typename TRAITS> UNROLL_ATTRIBUTE\n",
      "\u001b[0;1;32m                                             ^\n",
      "\u001b[0m\u001b[1m../../include/dg/backend/exblas/config.h:42:41: \u001b[0m\u001b[0;1;30mnote: \u001b[0mexpanded from macro 'UNROLL_ATTRIBUTE'\u001b[0m\n",
      "#define UNROLL_ATTRIBUTE __attribute__((optimize(\"unroll-loops\")))\n",
      "\u001b[0;1;32m                                        ^\n",
      "\u001b[0mIn file included from input_line_8:2:\n",
      "In file included from ../../include/dg/algorithm.h:11:\n",
      "In file included from ../../include/dg/topology/split_and_join.h:4:\n",
      "In file included from ../../include/dg/backend/blas1_dispatch_shared.h:12:\n",
      "In file included from ../../include/dg/backend/blas1_serial.h:6:\n",
      "In file included from ../../include/dg/backend/exblas/exdot_serial.h:26:\n",
      "\u001b[1m../../include/dg/backend/exblas/ExSUM.FPE.hpp:189:46: \u001b[0m\u001b[0;1;35mwarning: \u001b[0m\u001b[1munknown attribute 'optimize' ignored [-Wunknown-attributes]\u001b[0m\n",
      "template<typename T, int N, typename TRAITS> UNROLL_ATTRIBUTE\n",
      "\u001b[0;1;32m                                             ^\n",
      "\u001b[0m\u001b[1m../../include/dg/backend/exblas/config.h:42:41: \u001b[0m\u001b[0;1;30mnote: \u001b[0mexpanded from macro 'UNROLL_ATTRIBUTE'\u001b[0m\n",
      "#define UNROLL_ATTRIBUTE __attribute__((optimize(\"unroll-loops\")))\n",
      "\u001b[0;1;32m                                        ^\n",
      "\u001b[0mIn file included from input_line_8:2:\n",
      "In file included from ../../include/dg/algorithm.h:11:\n",
      "In file included from ../../include/dg/topology/split_and_join.h:4:\n",
      "In file included from ../../include/dg/backend/blas1_dispatch_shared.h:12:\n",
      "In file included from ../../include/dg/backend/blas1_serial.h:6:\n",
      "In file included from ../../include/dg/backend/exblas/exdot_serial.h:26:\n",
      "\u001b[1m../../include/dg/backend/exblas/ExSUM.FPE.hpp:221:46: \u001b[0m\u001b[0;1;35mwarning: \u001b[0m\u001b[1munknown attribute 'optimize' ignored [-Wunknown-attributes]\u001b[0m\n",
      "template<typename T, int N, typename TRAITS> UNROLL_ATTRIBUTE\n",
      "\u001b[0;1;32m                                             ^\n",
      "\u001b[0m\u001b[1m../../include/dg/backend/exblas/config.h:42:41: \u001b[0m\u001b[0;1;30mnote: \u001b[0mexpanded from macro 'UNROLL_ATTRIBUTE'\u001b[0m\n",
      "#define UNROLL_ATTRIBUTE __attribute__((optimize(\"unroll-loops\")))\n",
      "\u001b[0;1;32m                                        ^\n",
      "\u001b[0m"
     ]
    }
   ],
   "source": [
    "#pragma cling add_include_path(\"../../include\")\n",
    "#pragma cling add_include_path(\"../feltor/inc\") // Feltor path\n",
    "#define THRUST_DEVICE_SYSTEM THRUST_DEVICE_SYSTEM_CPP\n",
    "#include <iostream>\n",
    "#include \"dg/algorithm.h\""
   ]
  },
  {
   "cell_type": "markdown",
   "id": "e17257d8",
   "metadata": {},
   "source": [
    "# Grids and derivatives\n",
    "\n",
    "In the first two chapters we saw how to deal with vectors and how to integrate\n",
    "our first ordinary differential equation. But how about partial\n",
    "differential equations? In order to define a partial differential\n",
    "equation we need an actual physical space in two dimensions say and\n",
    "define derivatives on it. However, there is such a multitude of possible\n",
    "ways to discretize the physical space and the derivatives on it that we cannot\n",
    "hope to cover them all in one library. We have chosen so-called\n",
    "**discontinuous Galerkin** methods. You never heard of those before?\n",
    "In simple words these methods use\n",
    "a polynomial of arbitrary order in each grid cell instead of just one single\n",
    "point as do finite difference methods. The order of the polynomial\n",
    "defines the order of the method.\n",
    "To help you get started we have written an\n",
    "[introduction to dG methods](https://www.overleaf.com/read/rpbjsqmmfzyj).\n",
    "## Function evaluation and integration\n",
    "Let us look at a first example of what we can do with these methods. Let's\n",
    "integrate a function:"
   ]
  },
  {
   "cell_type": "code",
   "execution_count": 2,
   "id": "e850c073",
   "metadata": {},
   "outputs": [
    {
     "name": "stdout",
     "output_type": "stream",
     "text": [
      "40.82\n"
     ]
    }
   ],
   "source": [
    "#include <iostream>\n",
    "//include the dg-library\n",
    "#include \"dg/algorithm.h\"\n",
    "//define a function to integrate\n",
    "double function(double x, double y){\n",
    "  return exp(x) * exp(y);\n",
    "}\n",
    "\n",
    "//create a discretization of [0,2]x[0,2] with\n",
    "//3 polynomial coefficients and 20 cells in x and y\n",
    "dg::CartesianGrid2d g2d( 0, 2, 0, 2, 3, 20, 20);\n",
    "//discretize a function on this grid\n",
    "const dg::DVec f = dg::evaluate( function, g2d);\n",
    "//create the volume element\n",
    "const dg::DVec vol2d = dg::create::volume( g2d);\n",
    "//compute the integral on the device\n",
    "double integral = dg::blas1::dot( vol2d, f);\n",
    "// output approximates (exp(2)-exp(0))^2\n",
    "std::cout << integral <<std::endl;"
   ]
  },
  {
   "cell_type": "markdown",
   "id": "d1062d12",
   "metadata": {},
   "source": [
    "In this program we encounter a new class, the `dg::CartesianGrid2d` and\n",
    "two new functions, `dg::evaluate` and `dg::create::volume`.\n",
    "The grid class represents the topology (what point is neighbor to what other\n",
    "  point) and the geometry (the metric) that we use. In this\n",
    "case it is a two-dimensional Cartesian geometry, that is, the metric tensor\n",
    "  is the unit tensor.  Furthermore, it is a structured product space grid,\n",
    "  which means that the topology is given implicitly by the grid coordinates.\n",
    "  In the above example there are `60x60=3600` grid points in total.\n",
    "This number comes from the 20 cells that we use in both x and y direction\n",
    "and the 3 polynomial coefficients (that we use for both directions).\n",
    "````{admonition} Choose polynomials\n",
    "Per default the number of polynomials is the same in both x and y direction.\n",
    "If you want the freedom to choose each individually you could use\n",
    "```cpp\n",
    "dg::CartesianGrid2d g2d( {0, 2, 3, 20}, {0, 2, 5, 18});\n",
    "```\n",
    "Now we have a grid with 5 coefficients and 18 cells in the y direction.\n",
    "This highlights that the two-dimensional grid is made as a product\n",
    "of 2 one-dimensional grids.\n",
    "````\n",
    "\n",
    "The `dg::evaluate` function is a template function that takes a **binary**\n",
    "function or Functor as a first parameter.  In our example we aptly named\n",
    "the function `function` and it depends on the x and y coordinate and\n",
    "returns the result. The `dg::evaluate` function now takes our Cartesian grid,\n",
    "constructs the grid coordinates from it and inserts the coordinate into the\n",
    "function, one by one. The result is a vector containing the values of `function`\n",
    "for all the grid coordinates. We effectively discretized our `function` on the\n",
    "grid.\n",
    "```{admonition} Evaluation direction, do you really need it?\n",
    "If you think of the computational space as a box the first point in the result vector\n",
    "corresponds to the lower left corner. The next one is the point to the right, that\n",
    "is the x-direction is contiguous in memory. However, if you find that you need\n",
    "this information, stop! You should not need it.\n",
    "Use `dg::interpolate` or `dg::create::interpolation` if you want to access individual points\n",
    "and the `dg::blas` functions to operate on them. \n",
    "```\n",
    "\n",
    "The last function is the `dg::create::volume` function. This function takes\n",
    "our Cartesian grid and computes the volume form from the metric and also takes\n",
    "the Gaussian weights (from our discontinuous Galerkin methods) into account.\n",
    "The volume form is the `dxdy` in an integration of `Int f(x,y) dxdy`.\n",
    "\n",
    "Finally, we use the familiar `dg::blas1::dot` function to compute the scalar\n",
    "product between the function and the volume form and actually get\n",
    "a very good approximation of the analytical result.\n",
    "\n",
    "If we want to use MPI we have to change our code a little bit. When we use\n",
    "MPI we have to distribute the vector `f` among all processes in the\n",
    "communicator. We do this in the most direct way, namely simply allocating\n",
    "an equally sized portion of the grid to every process in the communicator.\n",
    "Then, each process can evaluate `function` only on the portion of the\n",
    "grid that it was assigned to. The result looks like this:"
   ]
  },
  {
   "cell_type": "markdown",
   "id": "8505a398",
   "metadata": {},
   "source": [
    "```{note}\n",
    "The following cell will not exectute because we do not have MPI installed in the notebook. You will need to copy-paste the below code to a file and compile it using the instructions in the quick-start guide.  \n",
    "```"
   ]
  },
  {
   "cell_type": "markdown",
   "id": "a6c0122d",
   "metadata": {},
   "source": [
    "```cpp\n",
    "#include <iostream>\n",
    "//activate MPI in FELTOR\n",
    "#include \"mpi.h\"\n",
    "#include \"dg/algorithm.h\"\n",
    "\n",
    "double function(double x, double y){\n",
    "    return exp(x)* exp(y);\n",
    "}\n",
    "int main(int argc, char* argv[])\n",
    "{\n",
    "    //init MPI and create a 2d Cartesian Communicator assuming 4 MPI threads\n",
    "    MPI_Init( &argc, &argv);\n",
    "    int periods[2] = {true, true}, np[2] = {2,2};\n",
    "    MPI_Comm comm;\n",
    "    MPI_Cart_create( MPI_COMM_WORLD, 2, np, periods, true, &comm);\n",
    "    //create a 2d discretization of [0,2]x[0,2] with\n",
    "    // 3 polynomial coefficients and 20 cells in x and y.\n",
    "    // Each process gets 10 by 10 cells\n",
    "    dg::CartesianMPIGrid2d g2d( 0, 2, 0, 2, 3, 20, 20, comm);\n",
    "    //discretize a function on this grid\n",
    "    const dg::MDVec f = dg::evaluate( function, g2d);\n",
    "    //create the volume element\n",
    "    const dg::MDVec vol2d = dg::create::volume( g2d);\n",
    "    //compute the square L2 norm\n",
    "    double norm = dg::blas1::dot( vol2d, f);\n",
    "    //on every thread norm is now: (exp(2)-exp(0))^2\n",
    "    //be a good MPI citizen and clean up\n",
    "    MPI_Finalize();\n",
    "    return 0;\n",
    "}\n",
    "```"
   ]
  },
  {
   "cell_type": "markdown",
   "id": "06db761b",
   "metadata": {},
   "source": [
    "## Derivatives\n",
    "The next step after evaluating functions is to compute derivatives of course.\n",
    "Consider this example code, which computes the Arakawa bracket $\\{ f , g\\} = \\partial_x f \\partial_y g - \\partial_y f \\partial_x g$"
   ]
  },
  {
   "cell_type": "code",
   "execution_count": 3,
   "id": "4c86292d",
   "metadata": {},
   "outputs": [],
   "source": [
    "//define some test functions\n",
    "double left( double x, double y) {\n",
    "  return sin(x) * cos(y);\n",
    "}"
   ]
  },
  {
   "cell_type": "code",
   "execution_count": 4,
   "id": "230f060e",
   "metadata": {},
   "outputs": [],
   "source": [
    "double right( double x, double y) {\n",
    "  return sin(y) * cos(x);\n",
    "}"
   ]
  },
  {
   "cell_type": "code",
   "execution_count": 5,
   "id": "c85f651a",
   "metadata": {},
   "outputs": [],
   "source": [
    "// The analytical solution\n",
    "double jacobian( double x, double y) {\n",
    "  return cos(x) * cos(y) * cos(x) * cos(y) - sin(x) * sin(y) * sin(x) * sin(y);\n",
    "}"
   ]
  },
  {
   "cell_type": "code",
   "execution_count": 6,
   "id": "2cae3742",
   "metadata": {},
   "outputs": [],
   "source": [
    "double lx = 2.*M_PI, ly = lx;\n",
    "unsigned n = 3, Nx = 40, Ny = 40;\n",
    "//boundary conditions\n",
    "dg::bc bcx = dg::PER, bcy = dg::PER;"
   ]
  },
  {
   "cell_type": "code",
   "execution_count": 7,
   "id": "502d9abe",
   "metadata": {},
   "outputs": [],
   "source": [
    "//create a grid with Cartesian geometry\n",
    "const dg::CartesianGrid2d grid( 0, lx, 0, ly, n, Nx, Ny, bcx, bcy);\n",
    "//evaluate functions on the grid coordinates\n",
    "const dg::DVec lhs = dg::evaluate( left, grid);\n",
    "const dg::DVec rhs = dg::evaluate( right, grid);\n",
    "const dg::DVec sol = dg::evaluate( jacobian, grid);\n",
    "\n",
    "\n",
    "//allocate workspace\n",
    "dg::DVec dxlhs(lhs), dxrhs(lhs), dylhs(lhs), dyrhs(lhs), jac(lhs);\n",
    "//create the derivatives\n",
    "dg::DMatrix dx = dg::create::dx( grid), dy = dg::create::dy(grid);\n",
    "//apply the derivative to the functions\n",
    "dg::blas2::symv( dx, lhs, dxlhs);\n",
    "dg::blas2::symv( dy, lhs, dylhs);\n",
    "dg::blas2::symv( dx, rhs, dxrhs);\n",
    "dg::blas2::symv( dy, rhs, dyrhs);\n",
    "//combine the results\n",
    "dg::blas1::pointwiseDot( 1./3., dxlhs, dyrhs, -1./3., dylhs, dxrhs, 0., jac);\n",
    "dg::blas1::pointwiseDot( 1./3.,   lhs, dyrhs, -1./3., dylhs,   rhs, 0., dylhs);\n",
    "dg::blas1::pointwiseDot( 1./3., dxlhs,   rhs, -1./3.,   lhs, dxrhs, 0., dxrhs);\n",
    "//add the remaining derivatives\n",
    "dg::blas2::symv( 1., dx, dylhs, 1., jac);\n",
    "dg::blas2::symv( 1., dy, dxrhs, 1., jac);"
   ]
  },
  {
   "cell_type": "code",
   "execution_count": 8,
   "id": "c4c9e010",
   "metadata": {},
   "outputs": [
    {
     "name": "stdout",
     "output_type": "stream",
     "text": [
      "Integrated Jacobian is 1.70093e-16\n"
     ]
    }
   ],
   "source": [
    "//create the volume form\n",
    "dg::DVec vol = dg::create::volume(grid);\n",
    "//test conservative property\n",
    "double integral = dg::blas1::dot( vol, jac);\n",
    "std::cout << \"Integrated Jacobian is \"<<integral<<\"\\n\";"
   ]
  },
  {
   "cell_type": "code",
   "execution_count": 9,
   "id": "7c00db13",
   "metadata": {},
   "outputs": [
    {
     "name": "stdout",
     "output_type": "stream",
     "text": [
      "Distance to solution 0.000754106\n"
     ]
    }
   ],
   "source": [
    "//now compute the distance to solution in L2 norm\n",
    "dg::blas1::axpby( 1., sol, -1., jac);\n",
    "double error = sqrt(dg::blas2::dot( jac, vol, jac));\n",
    "std::cout << \"Distance to solution \"<<error<<\"\\n\";"
   ]
  },
  {
   "cell_type": "markdown",
   "id": "d2e18aed",
   "metadata": {},
   "source": [
    "Here, we encounter the `dg::create::dx` and `dg::create::dy` functions that,\n",
    "as the names suggest, create derivatives in x and y direction respectively.\n",
    "The only parameter is the grid. Per default the boundary condition for the\n",
    "derivative is periodic and we use a centered discretization.\n",
    "The type of the matrix is a `dg::DMatrix` which is a typedef for an obscure\n",
    "dg-specific data type that holds a block-strcutured sparse matrix. The important\n",
    "thing is that a `dg::DMatrix` can be used together with a `dg::DVec`\n",
    "in the `dg::blas2::symv` functions. These are level 1 functions that do\n",
    "nothing but applying a given matrix to a vector and storing the result in\n",
    "another vector. Just as the `dg::blas1` functions the `dg::blas2` functions\n",
    "are templates that work for a variety of data types. In an MPI implementation\n",
    "we would use a `dg::MDMatrix`."
   ]
  },
  {
   "cell_type": "markdown",
   "id": "93de62ca",
   "metadata": {},
   "source": [
    "## A note on boundary conditions\n",
    "The matrices in the 'dg' library only know **homogeneous** boundary conditions.\n",
    "For example when choosing `dg::DIR` as the boundary condition in `dg::create::dx`\n",
    "the assumed boundary value is zero and when choosing `dg::NEU` the assumed \n",
    "derivative on the boundary is also zero.\n",
    "This has the advantage that our matrices are always linear. However, how do I\n",
    "implement other boundary conditions then, you ask. For example when the\n",
    "boundary value of my function is 1 and not 0?\n",
    "\n",
    "The answer is that you'll have to manually subtract the value from the function\n",
    "**before** you apply the derivative. For example if we assume that 'lhs' in the \n",
    "previous example has non-homogeneous boundary conditions we would do something like"
   ]
  },
  {
   "cell_type": "code",
   "execution_count": 12,
   "id": "c9dc7165",
   "metadata": {},
   "outputs": [],
   "source": [
    "double function_with_dir_boundary( double x, double y){\n",
    "    return 1.+sin(x)*sin(y);\n",
    "}"
   ]
  },
  {
   "cell_type": "code",
   "execution_count": 14,
   "id": "ff3a1335",
   "metadata": {},
   "outputs": [],
   "source": [
    "dg::DVec fun = dg::evaluate( function_with_dir_boundary, grid), der(fun);\n",
    "dg::blas1::plus( fun, -1.); // subtract boundary value before deriving\n",
    "dg::blas2::symv( dx, fun, der);"
   ]
  },
  {
   "cell_type": "markdown",
   "id": "0099c6bd",
   "metadata": {},
   "source": [
    "This procedure can be done similarly for Neumann boundary conditions, where\n",
    "you'll have to construct a function with your boundary conditions and subtract\n",
    "it before applying the derivative."
   ]
  }
 ],
 "metadata": {
  "celltoolbar": "Tags",
  "kernelspec": {
   "display_name": "C++14",
   "language": "C++14",
   "name": "xcpp14"
  },
  "language_info": {
   "codemirror_mode": "text/x-c++src",
   "file_extension": ".cpp",
   "mimetype": "text/x-c++src",
   "name": "c++",
   "version": "14"
  }
 },
 "nbformat": 4,
 "nbformat_minor": 5
}
