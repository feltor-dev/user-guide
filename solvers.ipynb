{
 "cells": [
  {
   "cell_type": "code",
   "execution_count": 1,
   "id": "d217aacc",
   "metadata": {
    "scrolled": true,
    "tags": [
     "remove-cell"
    ]
   },
   "outputs": [
    {
     "name": "stderr",
     "output_type": "stream",
     "text": [
      "In file included from input_line_8:2:\n",
      "In file included from ../../include/dg/algorithm.h:8:\n",
      "\u001b[1m../../include/dg/backend/config.h:20:9: \u001b[0m\u001b[0;1;35mwarning: \u001b[0m\u001b[1mNOTE: Fast std::fma(a,b,c) not activated! Using a*b+c instead! [-W#pragma-messages]\u001b[0m\n",
      "#pragma message( \"NOTE: Fast std::fma(a,b,c) not activated! Using a*b+c instead!\")\n",
      "\u001b[0;1;32m        ^\n",
      "\u001b[0mIn file included from input_line_8:2:\n",
      "In file included from ../../include/dg/algorithm.h:11:\n",
      "In file included from ../../include/dg/topology/split_and_join.h:4:\n",
      "In file included from ../../include/dg/backend/blas1_dispatch_shared.h:12:\n",
      "In file included from ../../include/dg/backend/blas1_serial.h:6:\n",
      "In file included from ../../include/dg/backend/exblas/exdot_serial.h:25:\n",
      "In file included from ../../include/dg/backend/exblas/accumulate.h:19:\n",
      "\u001b[1m../../include/dg/backend/exblas/config.h:31:9: \u001b[0m\u001b[0;1;35mwarning: \u001b[0m\u001b[1mWARNING: Instruction set below SSE4.1! Deactivating vectorization!\n",
      "      [-W#pragma-messages]\u001b[0m\n",
      "#pragma message(\"WARNING: Instruction set below SSE4.1! Deactivating vectorization!\")\n",
      "\u001b[0;1;32m        ^\n",
      "\u001b[0mIn file included from input_line_8:2:\n",
      "In file included from ../../include/dg/algorithm.h:11:\n",
      "In file included from ../../include/dg/topology/split_and_join.h:4:\n",
      "In file included from ../../include/dg/backend/blas1_dispatch_shared.h:12:\n",
      "In file included from ../../include/dg/backend/blas1_serial.h:6:\n",
      "In file included from ../../include/dg/backend/exblas/exdot_serial.h:25:\n",
      "\u001b[1m../../include/dg/backend/exblas/accumulate.h:93:43: \u001b[0m\u001b[0;1;35mwarning: \u001b[0m\u001b[1mshifting a negative signed value is undefined [-Wshift-negative-value]\u001b[0m\n",
      "        carrybit = (s ? 1ll << KRX : -1ll << KRX);\n",
      "\u001b[0;1;32m                                     ~~~~ ^\n",
      "\u001b[0mIn file included from input_line_8:2:\n",
      "In file included from ../../include/dg/algorithm.h:11:\n",
      "In file included from ../../include/dg/topology/split_and_join.h:4:\n",
      "In file included from ../../include/dg/backend/blas1_dispatch_shared.h:12:\n",
      "In file included from ../../include/dg/backend/blas1_serial.h:6:\n",
      "In file included from ../../include/dg/backend/exblas/exdot_serial.h:26:\n",
      "\u001b[1m../../include/dg/backend/exblas/ExSUM.FPE.hpp:143:46: \u001b[0m\u001b[0;1;35mwarning: \u001b[0m\u001b[1munknown attribute 'optimize' ignored [-Wunknown-attributes]\u001b[0m\n",
      "template<typename T, int N, typename TRAITS> UNROLL_ATTRIBUTE\n",
      "\u001b[0;1;32m                                             ^\n",
      "\u001b[0m\u001b[1m../../include/dg/backend/exblas/config.h:42:41: \u001b[0m\u001b[0;1;30mnote: \u001b[0mexpanded from macro 'UNROLL_ATTRIBUTE'\u001b[0m\n",
      "#define UNROLL_ATTRIBUTE __attribute__((optimize(\"unroll-loops\")))\n",
      "\u001b[0;1;32m                                        ^\n",
      "\u001b[0mIn file included from input_line_8:2:\n",
      "In file included from ../../include/dg/algorithm.h:11:\n",
      "In file included from ../../include/dg/topology/split_and_join.h:4:\n",
      "In file included from ../../include/dg/backend/blas1_dispatch_shared.h:12:\n",
      "In file included from ../../include/dg/backend/blas1_serial.h:6:\n",
      "In file included from ../../include/dg/backend/exblas/exdot_serial.h:26:\n",
      "\u001b[1m../../include/dg/backend/exblas/ExSUM.FPE.hpp:189:46: \u001b[0m\u001b[0;1;35mwarning: \u001b[0m\u001b[1munknown attribute 'optimize' ignored [-Wunknown-attributes]\u001b[0m\n",
      "template<typename T, int N, typename TRAITS> UNROLL_ATTRIBUTE\n",
      "\u001b[0;1;32m                                             ^\n",
      "\u001b[0m\u001b[1m../../include/dg/backend/exblas/config.h:42:41: \u001b[0m\u001b[0;1;30mnote: \u001b[0mexpanded from macro 'UNROLL_ATTRIBUTE'\u001b[0m\n",
      "#define UNROLL_ATTRIBUTE __attribute__((optimize(\"unroll-loops\")))\n",
      "\u001b[0;1;32m                                        ^\n",
      "\u001b[0mIn file included from input_line_8:2:\n",
      "In file included from ../../include/dg/algorithm.h:11:\n",
      "In file included from ../../include/dg/topology/split_and_join.h:4:\n",
      "In file included from ../../include/dg/backend/blas1_dispatch_shared.h:12:\n",
      "In file included from ../../include/dg/backend/blas1_serial.h:6:\n",
      "In file included from ../../include/dg/backend/exblas/exdot_serial.h:26:\n",
      "\u001b[1m../../include/dg/backend/exblas/ExSUM.FPE.hpp:221:46: \u001b[0m\u001b[0;1;35mwarning: \u001b[0m\u001b[1munknown attribute 'optimize' ignored [-Wunknown-attributes]\u001b[0m\n",
      "template<typename T, int N, typename TRAITS> UNROLL_ATTRIBUTE\n",
      "\u001b[0;1;32m                                             ^\n",
      "\u001b[0m\u001b[1m../../include/dg/backend/exblas/config.h:42:41: \u001b[0m\u001b[0;1;30mnote: \u001b[0mexpanded from macro 'UNROLL_ATTRIBUTE'\u001b[0m\n",
      "#define UNROLL_ATTRIBUTE __attribute__((optimize(\"unroll-loops\")))\n",
      "\u001b[0;1;32m                                        ^\n",
      "\u001b[0m"
     ]
    }
   ],
   "source": [
    "#pragma cling add_include_path(\"../../include\")\n",
    "#pragma cling add_include_path(\"../feltor/inc\") // Feltor path\n",
    "#define THRUST_DEVICE_SYSTEM THRUST_DEVICE_SYSTEM_CPP\n",
    "#include <iostream>\n",
    "#include \"dg/algorithm.h\""
   ]
  },
  {
   "cell_type": "markdown",
   "id": "b65c11c5",
   "metadata": {},
   "source": [
    "# Solvers in Feltor\n",
    "\n",
    "## A first example: inverting elliptic equations\n",
    "\n",
    "With grids and derivatives available we are now finally in the position\n",
    "to deal with high level numerical algorithms. One example of such\n",
    "an algorithm is the discretization and inversion of elliptic equations, for example Poison's equation.\n",
    "Look at the following code, which inverts a Laplacian\n"
   ]
  },
  {
   "cell_type": "code",
   "execution_count": 2,
   "id": "ef400a5d",
   "metadata": {},
   "outputs": [],
   "source": [
    "#include <iostream>\n",
    "#include \"dg/algorithm.h\""
   ]
  },
  {
   "cell_type": "code",
   "execution_count": 3,
   "id": "8dc7d3e7",
   "metadata": {},
   "outputs": [],
   "source": [
    "const double lx = 2.*M_PI;\n",
    "const double ly = 2.*M_PI;\n",
    "unsigned n = 3, Nx = 10, Ny = 10;\n",
    "const double eps = 1e-4;"
   ]
  },
  {
   "cell_type": "code",
   "execution_count": 4,
   "id": "8d27bde5",
   "metadata": {},
   "outputs": [],
   "source": [
    "double fct(double x, double y){\n",
    "    return sin(y) * sin(x);\n",
    "}"
   ]
  },
  {
   "cell_type": "code",
   "execution_count": 5,
   "id": "a0125681",
   "metadata": {},
   "outputs": [],
   "source": [
    "double laplace_fct( double x, double y) {\n",
    "    return 2 * sin(y) * sin(x);\n",
    "}"
   ]
  },
  {
   "cell_type": "code",
   "execution_count": 6,
   "id": "23e16f53",
   "metadata": {},
   "outputs": [],
   "source": [
    "double initial( double x, double y) {\n",
    "    return sin(0);\n",
    "}\n"
   ]
  },
  {
   "cell_type": "code",
   "execution_count": 7,
   "id": "1d3c88ec",
   "metadata": {},
   "outputs": [
    {
     "name": "stdout",
     "output_type": "stream",
     "text": [
      "Computing on the Grid 3 x 10 x 10\n",
      "Evaluate initial guess for iterative scheme\n",
      "Number of pcg iterations 15\n",
      "For a precision of 0.0001\n",
      "Took 1.80696s\n"
     ]
    }
   ],
   "source": [
    "// The numbers in parentheses are our suggestions ...\n",
    "//std::cout << \"Type n (3), Nx (20) and Ny (20)! \\n\";\n",
    "//std::cin >> n >> Nx >> Ny;\n",
    "std::cout << \"Computing on the Grid \" <<n<<\" x \"<<Nx<<\" x \"<<Ny <<\"\\n\";\n",
    "dg::CartesianGrid2d grid( 0, lx, 0, ly, n, Nx, Ny, dg::DIR, dg::PER);\n",
    "std::cout<<\"Evaluate initial guess for iterative scheme\\n\";\n",
    "dg::DVec x = dg::evaluate( initial, grid);\n",
    "// create volume and inverse volume on previously defined grid\n",
    "const dg::DVec vol2d = dg::create::volume( grid);\n",
    "\n",
    "// Create negative, unnormalized, positive definite Laplacian\n",
    "dg::Elliptic<dg::CartesianGrid2d, dg::DMatrix, dg::DVec> laplaceM( grid);\n",
    "// allocate memory in conjugate gradient\n",
    "unsigned max_iter = n*n*Nx*Ny;\n",
    "dg::PCG<dg::DVec > pcg( x, max_iter);\n",
    "\n",
    "// Evaluate right hand side and solution on the grid\n",
    "dg::DVec b = dg::evaluate ( laplace_fct, grid);\n",
    "const dg::DVec solution = dg::evaluate ( fct, grid);\n",
    "dg::Timer t;\n",
    "t.tic();\n",
    "// we do not use a preconditioner in solution method\n",
    "unsigned number = pcg.solve( laplaceM, x, b, 1., vol2d, eps);\n",
    "t.toc();\n",
    "std::cout << \"Number of pcg iterations \"<< number <<\"\\n\";\n",
    "std::cout << \"For a precision of \"<< eps<<\"\\n\";\n",
    "// clang as script is unfortunately not very fast so don't make the numbers too big\n",
    "std::cout << \"Took \"<< t.diff()<<\"s\\n\";"
   ]
  },
  {
   "cell_type": "code",
   "execution_count": 8,
   "id": "b4e0ef7c",
   "metadata": {},
   "outputs": [
    {
     "name": "stdout",
     "output_type": "stream",
     "text": [
      "L2 Norm of x is               3.14152\n",
      "L2 Norm of Solution is        3.14159\n",
      "L2 Norm of Error is           0.00348843\n",
      "L2 Norm of Residuum is        0.000467984\n"
     ]
    }
   ],
   "source": [
    "//compute error\n",
    "dg::DVec error( solution);\n",
    "dg::blas1::axpby( 1.,x,-1.,error);\n",
    "\n",
    "dg::DVec lap_x(x), residuum( b);\n",
    "dg::blas2::symv(  laplaceM, x, lap_x);\n",
    "dg::blas1::axpby( 1., lap_x, -1., residuum);\n",
    "\n",
    "//global relative error in L2 norm is O(h^n)\n",
    "double result;\n",
    "result = sqrt(dg::blas2::dot( x, vol2d, x));\n",
    "std::cout << \"L2 Norm of x is               \" << result << std::endl;\n",
    "result = sqrt(dg::blas2::dot(solution, vol2d , solution));\n",
    "std::cout << \"L2 Norm of Solution is        \" << result << std::endl;\n",
    "result = sqrt(dg::blas2::dot(error, vol2d , error));\n",
    "std::cout << \"L2 Norm of Error is           \" << result << std::endl;\n",
    "result = sqrt(dg::blas2::dot( residuum, vol2d, residuum));\n",
    "std::cout << \"L2 Norm of Residuum is        \" << result << std::endl;"
   ]
  },
  {
   "cell_type": "markdown",
   "id": "5b91c03d",
   "metadata": {},
   "source": [
    "This program executes on the device as is evident from the use of\n",
    " `dg::DVec`, a typedef for `thrust::device_vector<double>`, and `dg::DMatrix`.\n",
    " The new class that we encounter in this program is `dg::Elliptic`, a\n",
    " level 4 class. What this class does is to create and store the `dx` and `dy` matrices from the given grid. Furthermore, it allocates some\n",
    " internal workspace and defines a member function that uses `dg::blas1` and `dg::blas2` functions to discretize the Laplacian.\n",
    " The class depends on three template parameters,\n",
    " the geometry, the matrix and the vector class. The matrix and the\n",
    " vector class must fit together, that is, they must be useable in\n",
    " a `dg::blas2::symv` function.  Note, that the `dg::Elliptic` class\n",
    " acts as a matrix itself. This becomes clear in the line `dg::blas2::symv( laplaceM, x, lap_x)`. Note that the `M` in `laplaceM`\n",
    " reminds us that `dg::Elliptic` discretizes the negative Laplacian in order to\n",
    " generate a postive definite operator.\n",
    "\n",
    " The geometry `dg::CartesianGrid2d` defines a two-dimensional Euclidean metric\n",
    " tensor. Recall, that in general the Laplacian depends on metric coefficients.\n",
    "\n",
    "Since the `dg::Elliptic` is a matrix, we can now use it in a\n",
    "conjugate gradient solver. The `dg::CG` is a Level 2 class and thus\n",
    "only depends on the vector class that we use. Recall here that the\n",
    "conjugate gradient algorithm can be implemented with vector addition `dg::blas1::axpby`,\n",
    "a scalar product (`dg::blas1::dot`) and a matrix-vector multiplication (`dg::blas2::symv`) alone.\n",
    "\n",
    "In the above example we inverted the simple Laplacian. However, recall here\n",
    "that a conjugate gradient algorithm works for **any** matrix that is symmetric\n",
    "and positive definite. We provide a wide selection of already implemented\n",
    "matrix types in our library but you can also provide your very own matrix class\n",
    "in the above program. In order for this to work your own matrix class must be a functor/lambda with the signature `void operator()(const container&,container&)` where `container` is a placeholder for the vector class you use.\n"
   ]
  },
  {
   "cell_type": "markdown",
   "id": "2f89624f",
   "metadata": {},
   "source": [
    "## Operators and Solvers\n",
    "Feltor has a variety of solvers available that all solve the standard form \n",
    "\\begin{align}\\label{eq:standard}\n",
    "    f(x) = b\n",
    "\\end{align}\n",
    "for either linear or non-linear function $f$.\n",
    "These are for example Conjugate Gradient PCG, LGMRES, ChebyshevIteration, BICGSABl and the nonlinear fixed point iteration and its generalization, the AndersonAcceleration. Furthermore, we have the multigrid family of solvers, in\n",
    "particular our nested iterations solver.\n",
    "These solvers have in common that they are called in some\n",
    "variation of"
   ]
  },
  {
   "cell_type": "markdown",
   "id": "e8a11d30",
   "metadata": {},
   "source": [
    "```{code-block} cpp\n",
    "Operator op(...); // some operator\n",
    "Solver solver( copyable, max_iter);\n",
    "Vector x, b;\n",
    "Vector weights;\n",
    "double rtol = 1e-8, atol = rtol;\n",
    "solver.solve( op, x, b, weights, rtol, atol, more_params...);\n",
    "```"
   ]
  },
  {
   "cell_type": "markdown",
   "id": "0f048fe2",
   "metadata": {},
   "source": [
    "Here, the weights define the scalar product\n",
    "\\begin{align}\n",
    "   \\langle x, y \\rangle := \\sum_i x_i w_i y_i\n",
    "\\end{align}\n",
    "in which the error norm in particular and the scalar product\n",
    "is defined. \n",
    "\n",
    "### The `dg::apply` function\n",
    "All solvers also have in common that their first parameter\n",
    "in the solve method is the operator that computes the function $f(x)$. It needs to be either a functor or a matrix that is the function"
   ]
  },
  {
   "cell_type": "markdown",
   "id": "c9ae5ff4",
   "metadata": {},
   "source": [
    "\n",
    "```{code-block} cpp\n",
    "    dg::apply( op, x,y); // compute y = f(x)\n",
    "    dg::blas2::symv( op, x,y );//completely equivalent\n",
    "```"
   ]
  },
  {
   "cell_type": "markdown",
   "id": "1bc84fa4",
   "metadata": {},
   "source": [
    "will first check if the type of the operator has the `dg::TensorTraits<Operator>` specialized.\n",
    "If yes, it will assume the operator is a matrix and\n",
    "apply one of our specialized implementations. If not, then\n",
    "it will try to call"
   ]
  },
  {
   "cell_type": "markdown",
   "id": "b8009fa0",
   "metadata": {},
   "source": [
    "```{code-block} cpp\n",
    "op(x,y); // compute y = f(x)\n",
    "```"
   ]
  },
  {
   "cell_type": "markdown",
   "id": "d48aa9bb",
   "metadata": {},
   "source": [
    "i.e. the apply call is equivalent to a functor call.\n",
    "This observation is important to understand the following.\n",
    "### The operators as functors\n",
    "Feltor has an assortment of already made Operators available that have special implementations of the symv function available, for example the\n",
    "`dg::Elliptic` or `dg::Helmholtz` classes. Sometimes however, you need special operators, for example an implicit timestepper wants you to solve $x + \\alpha I(x,t) = b$. Assuming you implement $I(x,t)$, then this is not in the standard form Eq.~\\eqref{eq:standard} that the solvers expect.\n",
    "In order to make a new operator usable in the solve methods you have two options\n",
    "#### Overload operator()) \n",
    "You could implement a new class and overload"
   ]
  },
  {
   "cell_type": "markdown",
   "id": "a0a2d3ae",
   "metadata": {},
   "source": [
    "```{code-block} cpp\n",
    "struct Operator\n",
    "{\n",
    "    template<class ContainerType0, class ContainerType1>\n",
    "    void operator()( const ContainerType0& x, ContainerType1& y);\n",
    "};\n",
    "```"
   ]
  },
  {
   "cell_type": "markdown",
   "id": "c434bc9f",
   "metadata": {},
   "source": [
    "to make the class usable in the `dg::apply`\n",
    "function. This is useful for complicated functors that hold\n",
    "internal state. It is less useful for very small classes, where the parenthesis operator only consists of a line or two and when the operator is basically only \n",
    "an adaptor of another type.\n",
    "#### Lambda functions\n",
    "In C++14 lambda functions are a very powerful tool. \n",
    "They are basically functors that\n",
    "can be generated in a very concise and short way. \n",
    "```{seealso}\n",
    "If you are unfamiliar with lambdas a good watch on youtube is for example [Lambdas from Scratch - Arthur O'Dwye](https://www.youtube.com/watch?v=3jCOwajNch0)\n",
    "```\n",
    "For the above example of the\n",
    "timestepper we could for example write"
   ]
  },
  {
   "cell_type": "markdown",
   "id": "108decc7",
   "metadata": {},
   "source": [
    "```cpp\n",
    "Implicit imp(...);\n",
    "double alpha  = ..., time = ...;\n",
    "// We want an operator that computes x + a I(x,t) for given I\n",
    "auto functorToInvert = [ a = alpha, t = time, &im = imp]\n",
    "    (const auto& x, auto& y)\n",
    "{\n",
    "    im(t,x,y); // we assume that im is available\n",
    "    dg::blas1::axpby( 1., x, a, y);\n",
    "} \n",
    "```"
   ]
  },
  {
   "cell_type": "markdown",
   "id": "5823d64a",
   "metadata": {},
   "source": [
    "\n",
    "Several things are noteworthy here\n",
    "\n",
    "  - Our lambda is a template or a \"generic lambda\" through the use of \"auto\" in the interface\n",
    "  - Our lambda uses \"init capture\", a feature from C++14, which could be shortened in our case but here makes the code more verbose. Also note that we caught the implicit object by reference (in order to avoid a deep copy but we should beware \"dangling references\") while it captures alpha and time by value.\n",
    "\n",
    "Note that the lambda now has the correct interface to be used in a solver."
   ]
  },
  {
   "cell_type": "markdown",
   "id": "47ec1e17",
   "metadata": {},
   "source": [
    "```cpp\n",
    "dg::PCG<Vector> pcg(...);\n",
    "int number = pcg.solve( functorToInvert, x, b,\n",
    "                        preconditioner, weights, 1e-10);\n",
    "```"
   ]
  },
  {
   "cell_type": "markdown",
   "id": "63374135",
   "metadata": {},
   "source": [
    "### Preconditioning or the inverse operators\n",
    "The linear Feltor solvers all can be used with preconditioners. From an\n",
    "interface point of view, the Preconditioners have the same conditions \n",
    "as the operator itself, i.e. they must be usable as functors"
   ]
  },
  {
   "cell_type": "markdown",
   "id": "502232e8",
   "metadata": {},
   "source": [
    "```cpp\n",
    "Precond p(...);\n",
    "dg::apply( p, x,y); // computes y = P(x)\n",
    "```"
   ]
  },
  {
   "cell_type": "markdown",
   "id": "bfe7daf9",
   "metadata": {},
   "source": [
    "\n",
    "This example trivially works if `using Precond = Vector` is a \n",
    "vector, i.e. a diagonal preconditioner. But what if we want to use a more involved preconditioner?\n",
    "\n",
    "Again, there are two options. The first option is to write an entirely new class\n",
    "and overload the function call operator as described in Section~\\ref{sec:overload}.\n",
    "The second one is to combine existing solvers to construct a new one with the use of lambdas as described in Section~\\ref{sec:lambda}\n",
    "\n",
    "A preconditioner is essentially an approximate inverse. Here, we show\n",
    "how to use a lambda to combine an elliptic operator with a Chebyshev solver that applies 10 iterations as a preconditioner that can be used in PCG (solves $-\\Delta \\Phi = \\rho $)"
   ]
  },
  {
   "cell_type": "markdown",
   "id": "3ee2ca0d",
   "metadata": {},
   "source": [
    "```cpp\n",
    "// The operator that we want to solve\n",
    "dg::Elliptic<...> pol( grid);\n",
    "pol.set_chi( chi);\n",
    "//estimate EigenValue\n",
    "dg::EVE<Vector> eve( copyable);\n",
    "double eps_ev = 1e-2, ev;\n",
    "// compute largest Eigenvalue in a few iterations\n",
    "counter = eve.solve( pol, x, b, 1., pol.weights(), ev, eps_ev);\n",
    "// Here we combine the Elliptic operator with the Chebyshev solver\n",
    "dg::ChebyshevIterations<Vector> cheby( x);\n",
    "auto precond = [nu=10, ev, &pol, &cheby](const auto& y, auto& x)\n",
    "        {\n",
    "            cheby.solve( pol, x, y, 1., ev/100., ev*1.1, nu+1, true);\n",
    "        };\n",
    "// Now we can call the solver\n",
    "dg::PCG< Vector > pcg( x, 1000);\n",
    "pcg.solve( pol, x, y, precond, pol.weights(), eps, 1, 1);\n",
    "```"
   ]
  },
  {
   "cell_type": "markdown",
   "id": "8207cb7d",
   "metadata": {},
   "source": [
    "## The multigrid solvers\n",
    "In order to use a multigrid solver like nested iteration we first need to\n",
    "be able to construct the operators on various grids"
   ]
  },
  {
   "cell_type": "markdown",
   "id": "2bed44a1",
   "metadata": {},
   "source": [
    "```cpp\n",
    "unsigned stages = 3;\n",
    "Geometry grid(...);\n",
    "dg::NestedGrids<Geometry, Matrix, Container> nested( grid, stages);\n",
    "```"
   ]
  },
  {
   "cell_type": "markdown",
   "id": "58e90cb3",
   "metadata": {},
   "source": [
    "The nested grids provide the functionality to project and interpolate between\n",
    "various grids and also provides a workspace for the solvee function.\n",
    "We can use this to construct "
   ]
  },
  {
   "cell_type": "markdown",
   "id": "1f18adbf",
   "metadata": {},
   "source": [
    "```cpp\n",
    "std::vector<Container> multi_chi = nested.project( chi);\n",
    "std::vector<dg::PCG<Container> > multi_pcg( stages);\n",
    "std::vector<dg::Elliptic<Geometry, Matrix, Container> >\n",
    "    multi_pol( stages);\n",
    "for(unsigned u=0; u<stages; u++)\n",
    "{\n",
    "    multi_pol[u].construct( nested.grid(u), dg::centered);\n",
    "    multi_pol[u].set_chi( multi_chi[u]);\n",
    "    multi_pcg[u].construct( multi_chi[u], 1000);\n",
    "}\n",
    "```"
   ]
  },
  {
   "cell_type": "markdown",
   "id": "211f81ec",
   "metadata": {},
   "source": [
    "We use the nested grids to construct an operator and a solver on each grid.\n",
    "Now we are ready to construct the center-piece of our multigrid solver.\n",
    "We need to construct an inverse operator (that is an operator combined with a solver) on each grid and store it"
   ]
  },
  {
   "cell_type": "markdown",
   "id": "8c566152",
   "metadata": {},
   "source": [
    "```cpp\n",
    "std::vector<std::function<void( const dg::DVec&, dg::DVec&)> > \n",
    "    multi_inv_pol(stages);\n",
    "for(unsigned u=0; u<stages; u++)\n",
    "{\n",
    "    multi_inv_pol[u] = [=, &pcg = multi_pcg[u], &pol = multi_pol[u]) ](\n",
    "        const auto& y, auto& x)\n",
    "    {\n",
    "#ifdef MPI_VERSION\n",
    "        int rank;\n",
    "        MPI_Comm_rank(MPI_COMM_WORLD, &rank);\n",
    "#endif //MPI\n",
    "        dg::Timer t;\n",
    "        t.tic();\n",
    "        number = pcg.solve( pol, x, y, pol.precond(), pol.weights(),\n",
    "                eps, 1., 1 );\n",
    "        t.toc();\n",
    "        DG_RANK0 std::cout << \"# Nested iterations stage: \" << u << \", iter: \" << number << \", took \"<<t.diff()<<\"s\\n\";\n",
    "    };\n",
    "}\n",
    "```"
   ]
  },
  {
   "cell_type": "markdown",
   "id": "8271d5bb",
   "metadata": {},
   "source": [
    "Note again how we capture the solver and operator by reference in the lambda. This \n",
    "is very similar to how we constructed the preconditioner in section \\ref{sec:precond}. Also note that we store the lambda in a vector of `std::function< ...>`, which erases the type of the lambda. Therefore, it is possible to use different kind of solvers for each stage.\n",
    "Finally, note that we use the lambda body to also provide some ease of living\n",
    "benchmark functionality.\n",
    "The final step is simply to call the appropriate function"
   ]
  },
  {
   "cell_type": "markdown",
   "id": "59c43a93",
   "metadata": {},
   "source": [
    "```cpp\n",
    "nested_iterations( multi_pol, x, b, multi_inv_pol, nested);\n",
    "```"
   ]
  },
  {
   "cell_type": "code",
   "execution_count": null,
   "id": "fbd75385",
   "metadata": {},
   "outputs": [],
   "source": []
  }
 ],
 "metadata": {
  "celltoolbar": "Tags",
  "kernelspec": {
   "display_name": "C++14",
   "language": "C++14",
   "name": "xcpp14"
  },
  "language_info": {
   "codemirror_mode": "text/x-c++src",
   "file_extension": ".cpp",
   "mimetype": "text/x-c++src",
   "name": "c++",
   "version": "14"
  }
 },
 "nbformat": 4,
 "nbformat_minor": 5
}
