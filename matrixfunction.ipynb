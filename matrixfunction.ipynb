{
 "cells": [
  {
   "cell_type": "code",
   "execution_count": 1,
   "id": "f16bb56e",
   "metadata": {
    "scrolled": true,
    "tags": [
     "remove-cell"
    ]
   },
   "outputs": [
    {
     "name": "stderr",
     "output_type": "stream",
     "text": [
      "In file included from input_line_8:2:\n",
      "In file included from ../feltor/inc/dg/algorithm.h:8:\n",
      "\u001b[1m../feltor/inc/dg/backend/config.h:20:9: \u001b[0m\u001b[0;1;35mwarning: \u001b[0m\u001b[1mNOTE: Fast std::fma(a,b,c) not activated! Using a*b+c instead! [-W#pragma-messages]\u001b[0m\n",
      "#pragma message( \"NOTE: Fast std::fma(a,b,c) not activated! Using a*b+c instead!\")\n",
      "\u001b[0;1;32m        ^\n",
      "\u001b[0mIn file included from input_line_8:2:\n",
      "In file included from ../feltor/inc/dg/algorithm.h:11:\n",
      "In file included from ../feltor/inc/dg/topology/split_and_join.h:4:\n",
      "In file included from ../feltor/inc/dg/backend/blas1_dispatch_shared.h:12:\n",
      "In file included from ../feltor/inc/dg/backend/blas1_serial.h:6:\n",
      "In file included from ../feltor/inc/dg/backend/exblas/exdot_serial.h:25:\n",
      "In file included from ../feltor/inc/dg/backend/exblas/accumulate.h:19:\n",
      "\u001b[1m../feltor/inc/dg/backend/exblas/config.h:31:9: \u001b[0m\u001b[0;1;35mwarning: \u001b[0m\u001b[1mWARNING: Instruction set below SSE4.1! Deactivating vectorization!\n",
      "      [-W#pragma-messages]\u001b[0m\n",
      "#pragma message(\"WARNING: Instruction set below SSE4.1! Deactivating vectorization!\")\n",
      "\u001b[0;1;32m        ^\n",
      "\u001b[0mIn file included from input_line_8:2:\n",
      "In file included from ../feltor/inc/dg/algorithm.h:11:\n",
      "In file included from ../feltor/inc/dg/topology/split_and_join.h:4:\n",
      "In file included from ../feltor/inc/dg/backend/blas1_dispatch_shared.h:12:\n",
      "In file included from ../feltor/inc/dg/backend/blas1_serial.h:6:\n",
      "In file included from ../feltor/inc/dg/backend/exblas/exdot_serial.h:25:\n",
      "\u001b[1m../feltor/inc/dg/backend/exblas/accumulate.h:93:43: \u001b[0m\u001b[0;1;35mwarning: \u001b[0m\u001b[1mshifting a negative signed value is undefined [-Wshift-negative-value]\u001b[0m\n",
      "        carrybit = (s ? 1ll << KRX : -1ll << KRX);\n",
      "\u001b[0;1;32m                                     ~~~~ ^\n",
      "\u001b[0mIn file included from input_line_8:2:\n",
      "In file included from ../feltor/inc/dg/algorithm.h:11:\n",
      "In file included from ../feltor/inc/dg/topology/split_and_join.h:4:\n",
      "In file included from ../feltor/inc/dg/backend/blas1_dispatch_shared.h:12:\n",
      "In file included from ../feltor/inc/dg/backend/blas1_serial.h:6:\n",
      "In file included from ../feltor/inc/dg/backend/exblas/exdot_serial.h:26:\n",
      "\u001b[1m../feltor/inc/dg/backend/exblas/ExSUM.FPE.hpp:143:46: \u001b[0m\u001b[0;1;35mwarning: \u001b[0m\u001b[1munknown attribute 'optimize' ignored [-Wunknown-attributes]\u001b[0m\n",
      "template<typename T, int N, typename TRAITS> UNROLL_ATTRIBUTE\n",
      "\u001b[0;1;32m                                             ^\n",
      "\u001b[0m\u001b[1m../feltor/inc/dg/backend/exblas/config.h:42:41: \u001b[0m\u001b[0;1;30mnote: \u001b[0mexpanded from macro 'UNROLL_ATTRIBUTE'\u001b[0m\n",
      "#define UNROLL_ATTRIBUTE __attribute__((optimize(\"unroll-loops\")))\n",
      "\u001b[0;1;32m                                        ^\n",
      "\u001b[0mIn file included from input_line_8:2:\n",
      "In file included from ../feltor/inc/dg/algorithm.h:11:\n",
      "In file included from ../feltor/inc/dg/topology/split_and_join.h:4:\n",
      "In file included from ../feltor/inc/dg/backend/blas1_dispatch_shared.h:12:\n",
      "In file included from ../feltor/inc/dg/backend/blas1_serial.h:6:\n",
      "In file included from ../feltor/inc/dg/backend/exblas/exdot_serial.h:26:\n",
      "\u001b[1m../feltor/inc/dg/backend/exblas/ExSUM.FPE.hpp:189:46: \u001b[0m\u001b[0;1;35mwarning: \u001b[0m\u001b[1munknown attribute 'optimize' ignored [-Wunknown-attributes]\u001b[0m\n",
      "template<typename T, int N, typename TRAITS> UNROLL_ATTRIBUTE\n",
      "\u001b[0;1;32m                                             ^\n",
      "\u001b[0m\u001b[1m../feltor/inc/dg/backend/exblas/config.h:42:41: \u001b[0m\u001b[0;1;30mnote: \u001b[0mexpanded from macro 'UNROLL_ATTRIBUTE'\u001b[0m\n",
      "#define UNROLL_ATTRIBUTE __attribute__((optimize(\"unroll-loops\")))\n",
      "\u001b[0;1;32m                                        ^\n",
      "\u001b[0mIn file included from input_line_8:2:\n",
      "In file included from ../feltor/inc/dg/algorithm.h:11:\n",
      "In file included from ../feltor/inc/dg/topology/split_and_join.h:4:\n",
      "In file included from ../feltor/inc/dg/backend/blas1_dispatch_shared.h:12:\n",
      "In file included from ../feltor/inc/dg/backend/blas1_serial.h:6:\n",
      "In file included from ../feltor/inc/dg/backend/exblas/exdot_serial.h:26:\n",
      "\u001b[1m../feltor/inc/dg/backend/exblas/ExSUM.FPE.hpp:221:46: \u001b[0m\u001b[0;1;35mwarning: \u001b[0m\u001b[1munknown attribute 'optimize' ignored [-Wunknown-attributes]\u001b[0m\n",
      "template<typename T, int N, typename TRAITS> UNROLL_ATTRIBUTE\n",
      "\u001b[0;1;32m                                             ^\n",
      "\u001b[0m\u001b[1m../feltor/inc/dg/backend/exblas/config.h:42:41: \u001b[0m\u001b[0;1;30mnote: \u001b[0mexpanded from macro 'UNROLL_ATTRIBUTE'\u001b[0m\n",
      "#define UNROLL_ATTRIBUTE __attribute__((optimize(\"unroll-loops\")))\n",
      "\u001b[0;1;32m                                        ^\n",
      "\u001b[0mIn file included from input_line_8:3:\n",
      "In file included from ../feltor/inc/dg/geometries/geometries.h:3:\n",
      "In file included from ../feltor/inc/dg/geometries/../../geometries/geometries.h:8:\n",
      "\u001b[1m../feltor/inc/dg/geometries/../../geometries/separatrix_orthogonal.h:136:10: \u001b[0m\u001b[0;1;35mwarning: \u001b[0m\u001b[1m'do_isOrthogonal' overrides a member function but is not marked 'override'\n",
      "      [-Winconsistent-missing-override]\u001b[0m\n",
      "    bool do_isOrthogonal()const{return true;}\n",
      "\u001b[0;1;32m         ^\n",
      "\u001b[0m\u001b[1m../feltor/inc/dg/geometries/../../geometries/generatorX.h:85:18: \u001b[0m\u001b[0;1;30mnote: \u001b[0moverridden virtual function is here\u001b[0m\n",
      "    virtual bool do_isOrthogonal()const{return false;}\n",
      "\u001b[0;1;32m                 ^\n",
      "\u001b[0m"
     ]
    }
   ],
   "source": [
    "#pragma cling add_include_path(\"../../include\")\n",
    "#pragma cling add_include_path(\"../feltor/inc\") // Feltor path\n",
    "#define THRUST_DEVICE_SYSTEM THRUST_DEVICE_SYSTEM_CPP\n",
    "#include <iostream>\n",
    "#include \"dg/algorithm.h\"\n",
    "#include \"dg/geometries/geometries.h\""
   ]
  },
  {
   "cell_type": "markdown",
   "id": "c86f64a7",
   "metadata": {},
   "source": [
    "# Matrix functions\n",
    "\n",
    "We consider the solution of the linear matrix function equation\n",
    "\\begin{align}\\label{eq:matrixfunc}\n",
    " \\vec{x} = f(A) \\vec{b} \n",
    "\\end{align}\n",
    "for the vector $\\vec{x}$ and $\\vec{b}$ with a given square matrix $A\\in \\mathbb{R}^{n \\times n}$. The matrix $A$ is assumed to be self-adjoint in the scalar product defined by the symmetric and positiv definit matrix $M$\n",
    "\\begin{align}\n",
    "    \\langle \\vec v, \\vec w\\rangle_M :=& \\vec v^\\mathrm{T} M \\cdot \\vec w \\\\\n",
    "    ||\\vec v||_M :=& \\sqrt{ \\langle \\vec v, \\vec v\\rangle_M}\n",
    "\\end{align}\n",
    "\n",
    "to be continued ... (check out doxygen documentation for now)"
   ]
  },
  {
   "cell_type": "code",
   "execution_count": null,
   "id": "778b9de4",
   "metadata": {},
   "outputs": [],
   "source": []
  }
 ],
 "metadata": {
  "celltoolbar": "Tags",
  "kernelspec": {
   "display_name": "C++14",
   "language": "C++14",
   "name": "xcpp14"
  },
  "language_info": {
   "codemirror_mode": "text/x-c++src",
   "file_extension": ".cpp",
   "mimetype": "text/x-c++src",
   "name": "c++",
   "version": "14"
  }
 },
 "nbformat": 4,
 "nbformat_minor": 5
}
