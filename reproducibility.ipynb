{
 "cells": [
  {
   "cell_type": "markdown",
   "id": "abc5d668",
   "metadata": {},
   "source": [
    "# Reproducibility and Accuracy\n",
    "\n",
    "When computing the sum of floating point values as in the scalar product\n",
    "\\begin{align}\n",
    "\\vec x\\cdot \\vec y = \\sum_k x_k y_k\n",
    "\\end{align}\n",
    "round-off errors can (i) falsify the numerical result and (ii) make the result non-reproducible in a parallel setting. To see the first point imagine a naive implementation\n",
    "like\n",
    "```{code-block} cpp\n",
    "double sum = 0;\n",
    "for( unsigned u=0; u<size; u++)\n",
    "    sum += x[u]*y[u];\n",
    "```\n",
    " $ x\\oplus y$ is numerically not exact, in fact $1\\oplus \\varepsilon = 1$ if $\\varepsilon$ is the machine precision. This means that most accuracy is lost in $s \\oplus x_u y_u$ at the end of the for loop, when \n",
    "the variable `sum` gets increasingly larger in comparison to `x[u]*y[u]`.\n",
    "The accuracy problem is somewhat alleviated in algorithms like tree-reduction but not entirely. \n",
    "\n",
    "Another problem is that $(a \\oplus b) \\oplus c \\neq a\\oplus (b\\oplus c)$, which leads to non-reproducible results in a parallel setting where the order of execution cannot be guaranteed.\n",
    "\n",
    "## The `dg::blas1::dot` function\n",
    "We base our algorithm on the \"exblas\" approach, which computes sums with a long accumulator (a large fixed point number) that can accurately store the result and only perform one rounding operation at the end. This makes the `dg::blas1::dot` function both **as accurate as it can be** and **binary reproducible** across many different platforms.\n",
    "\n",
    "## Is Feltor binary reproducible?\n",
    "The short answer is no. The longer answer is \"almost\" or \"at least if you don't change the compiler. The problem is in order to be binary reproducible **all computations** have to be implemented either with long accumulators or such that the order of execution is always guaranteed. Now the problem lies in the fact that we do not always have full control over what is implemented. Consider"
   ]
  },
  {
   "cell_type": "code",
   "execution_count": 4,
   "id": "1bb48859",
   "metadata": {
    "scrolled": true,
    "tags": [
     "remove-cell"
    ]
   },
   "outputs": [],
   "source": [
    "#pragma cling add_include_path(\"../../include\")\n",
    "#pragma cling add_include_path(\"../feltor/inc\") // Feltor path\n",
    "#define THRUST_DEVICE_SYSTEM THRUST_DEVICE_SYSTEM_CPP\n",
    "#include <iostream>\n",
    "#include \"dg/exblas/exblas.h\""
   ]
  },
  {
   "cell_type": "code",
   "execution_count": 10,
   "id": "8401c676",
   "metadata": {},
   "outputs": [
    {
     "name": "stdout",
     "output_type": "stream",
     "text": [
      "Difference to correct result 1\n"
     ]
    }
   ],
   "source": [
    "#include \"dg/exblas/exblas.h\"\n",
    "double x = 6.12610567450009658;\n",
    "dg::exblas::udouble result;\n",
    "result.d = sin(x);\n",
    "//std::cout << result.d << \" \"<<result.i<<\"\\n\";\n",
    "std::cout << \"Difference to correct result: \"<<result.i  - -4628567870976535683<<\"\\n\";"
   ]
  },
  {
   "cell_type": "markdown",
   "id": "3bb1c491",
   "metadata": {},
   "source": [
    "Depending on your platform/compiler the result of the above example may or may not be zero. This is because the implementation of the sine function is not unique and rounding is not always done correctly for all inputs.\n",
    "\n",
    "This simple example shows that from a developer perspective it is almost impossible (or at least highly impractical) to make an entire program binary reproducible across all platforms and compilers. "
   ]
  },
  {
   "cell_type": "code",
   "execution_count": null,
   "id": "ad203e71",
   "metadata": {},
   "outputs": [],
   "source": []
  }
 ],
 "metadata": {
  "celltoolbar": "Tags",
  "kernelspec": {
   "display_name": "C++14",
   "language": "C++14",
   "name": "xcpp14"
  },
  "language_info": {
   "codemirror_mode": "text/x-c++src",
   "file_extension": ".cpp",
   "mimetype": "text/x-c++src",
   "name": "c++",
   "version": "14"
  }
 },
 "nbformat": 4,
 "nbformat_minor": 5
}
