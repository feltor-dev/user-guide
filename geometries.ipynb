{
 "cells": [
  {
   "cell_type": "code",
   "execution_count": 1,
   "id": "9073c379",
   "metadata": {
    "scrolled": true,
    "tags": [
     "remove-cell"
    ]
   },
   "outputs": [
    {
     "name": "stderr",
     "output_type": "stream",
     "text": [
      "In file included from input_line_8:2:\n",
      "In file included from ../../include/dg/algorithm.h:8:\n",
      "\u001b[1m../../include/dg/backend/config.h:20:9: \u001b[0m\u001b[0;1;35mwarning: \u001b[0m\u001b[1mNOTE: Fast std::fma(a,b,c) not activated! Using a*b+c instead! [-W#pragma-messages]\u001b[0m\n",
      "#pragma message( \"NOTE: Fast std::fma(a,b,c) not activated! Using a*b+c instead!\")\n",
      "\u001b[0;1;32m        ^\n",
      "\u001b[0mIn file included from input_line_8:2:\n",
      "In file included from ../../include/dg/algorithm.h:11:\n",
      "In file included from ../../include/dg/topology/split_and_join.h:4:\n",
      "In file included from ../../include/dg/backend/blas1_dispatch_shared.h:12:\n",
      "In file included from ../../include/dg/backend/blas1_serial.h:6:\n",
      "In file included from ../../include/dg/backend/exblas/exdot_serial.h:25:\n",
      "In file included from ../../include/dg/backend/exblas/accumulate.h:19:\n",
      "\u001b[1m../../include/dg/backend/exblas/config.h:31:9: \u001b[0m\u001b[0;1;35mwarning: \u001b[0m\u001b[1mWARNING: Instruction set below SSE4.1! Deactivating vectorization!\n",
      "      [-W#pragma-messages]\u001b[0m\n",
      "#pragma message(\"WARNING: Instruction set below SSE4.1! Deactivating vectorization!\")\n",
      "\u001b[0;1;32m        ^\n",
      "\u001b[0mIn file included from input_line_8:2:\n",
      "In file included from ../../include/dg/algorithm.h:11:\n",
      "In file included from ../../include/dg/topology/split_and_join.h:4:\n",
      "In file included from ../../include/dg/backend/blas1_dispatch_shared.h:12:\n",
      "In file included from ../../include/dg/backend/blas1_serial.h:6:\n",
      "In file included from ../../include/dg/backend/exblas/exdot_serial.h:25:\n",
      "\u001b[1m../../include/dg/backend/exblas/accumulate.h:93:43: \u001b[0m\u001b[0;1;35mwarning: \u001b[0m\u001b[1mshifting a negative signed value is undefined [-Wshift-negative-value]\u001b[0m\n",
      "        carrybit = (s ? 1ll << KRX : -1ll << KRX);\n",
      "\u001b[0;1;32m                                     ~~~~ ^\n",
      "\u001b[0mIn file included from input_line_8:2:\n",
      "In file included from ../../include/dg/algorithm.h:11:\n",
      "In file included from ../../include/dg/topology/split_and_join.h:4:\n",
      "In file included from ../../include/dg/backend/blas1_dispatch_shared.h:12:\n",
      "In file included from ../../include/dg/backend/blas1_serial.h:6:\n",
      "In file included from ../../include/dg/backend/exblas/exdot_serial.h:26:\n",
      "\u001b[1m../../include/dg/backend/exblas/ExSUM.FPE.hpp:143:46: \u001b[0m\u001b[0;1;35mwarning: \u001b[0m\u001b[1munknown attribute 'optimize' ignored [-Wunknown-attributes]\u001b[0m\n",
      "template<typename T, int N, typename TRAITS> UNROLL_ATTRIBUTE\n",
      "\u001b[0;1;32m                                             ^\n",
      "\u001b[0m\u001b[1m../../include/dg/backend/exblas/config.h:42:41: \u001b[0m\u001b[0;1;30mnote: \u001b[0mexpanded from macro 'UNROLL_ATTRIBUTE'\u001b[0m\n",
      "#define UNROLL_ATTRIBUTE __attribute__((optimize(\"unroll-loops\")))\n",
      "\u001b[0;1;32m                                        ^\n",
      "\u001b[0mIn file included from input_line_8:2:\n",
      "In file included from ../../include/dg/algorithm.h:11:\n",
      "In file included from ../../include/dg/topology/split_and_join.h:4:\n",
      "In file included from ../../include/dg/backend/blas1_dispatch_shared.h:12:\n",
      "In file included from ../../include/dg/backend/blas1_serial.h:6:\n",
      "In file included from ../../include/dg/backend/exblas/exdot_serial.h:26:\n",
      "\u001b[1m../../include/dg/backend/exblas/ExSUM.FPE.hpp:189:46: \u001b[0m\u001b[0;1;35mwarning: \u001b[0m\u001b[1munknown attribute 'optimize' ignored [-Wunknown-attributes]\u001b[0m\n",
      "template<typename T, int N, typename TRAITS> UNROLL_ATTRIBUTE\n",
      "\u001b[0;1;32m                                             ^\n",
      "\u001b[0m\u001b[1m../../include/dg/backend/exblas/config.h:42:41: \u001b[0m\u001b[0;1;30mnote: \u001b[0mexpanded from macro 'UNROLL_ATTRIBUTE'\u001b[0m\n",
      "#define UNROLL_ATTRIBUTE __attribute__((optimize(\"unroll-loops\")))\n",
      "\u001b[0;1;32m                                        ^\n",
      "\u001b[0mIn file included from input_line_8:2:\n",
      "In file included from ../../include/dg/algorithm.h:11:\n",
      "In file included from ../../include/dg/topology/split_and_join.h:4:\n",
      "In file included from ../../include/dg/backend/blas1_dispatch_shared.h:12:\n",
      "In file included from ../../include/dg/backend/blas1_serial.h:6:\n",
      "In file included from ../../include/dg/backend/exblas/exdot_serial.h:26:\n",
      "\u001b[1m../../include/dg/backend/exblas/ExSUM.FPE.hpp:221:46: \u001b[0m\u001b[0;1;35mwarning: \u001b[0m\u001b[1munknown attribute 'optimize' ignored [-Wunknown-attributes]\u001b[0m\n",
      "template<typename T, int N, typename TRAITS> UNROLL_ATTRIBUTE\n",
      "\u001b[0;1;32m                                             ^\n",
      "\u001b[0m\u001b[1m../../include/dg/backend/exblas/config.h:42:41: \u001b[0m\u001b[0;1;30mnote: \u001b[0mexpanded from macro 'UNROLL_ATTRIBUTE'\u001b[0m\n",
      "#define UNROLL_ATTRIBUTE __attribute__((optimize(\"unroll-loops\")))\n",
      "\u001b[0;1;32m                                        ^\n",
      "\u001b[0mIn file included from input_line_8:3:\n",
      "In file included from ../../include/dg/geometries/geometries.h:3:\n",
      "In file included from ../../include/dg/geometries/../../geometries/geometries.h:8:\n",
      "\u001b[1m../../include/dg/geometries/../../geometries/separatrix_orthogonal.h:135:10: \u001b[0m\u001b[0;1;35mwarning: \u001b[0m\u001b[1m'do_isOrthogonal' overrides a member function but is not marked 'override'\n",
      "      [-Winconsistent-missing-override]\u001b[0m\n",
      "    bool do_isOrthogonal()const{return true;}\n",
      "\u001b[0;1;32m         ^\n",
      "\u001b[0m\u001b[1m../../include/dg/geometries/../../geometries/generatorX.h:85:18: \u001b[0m\u001b[0;1;30mnote: \u001b[0moverridden virtual function is here\u001b[0m\n",
      "    virtual bool do_isOrthogonal()const{return false;}\n",
      "\u001b[0;1;32m                 ^\n",
      "\u001b[0m"
     ]
    }
   ],
   "source": [
    "#pragma cling add_include_path(\"../../include\")\n",
    "#pragma cling add_include_path(\"../feltor/inc\") // Feltor path\n",
    "#define THRUST_DEVICE_SYSTEM THRUST_DEVICE_SYSTEM_CPP\n",
    "#include <iostream>\n",
    "#include \"dg/algorithm.h\"\n",
    "#include \"dg/geometries/geometries.h\""
   ]
  },
  {
   "cell_type": "markdown",
   "id": "82d1cff2",
   "metadata": {},
   "source": [
    "# Curvilinear grids\n",
    "\n",
    "## The Geometries extension\n",
    "We provide an extension to the standard dg library in\n",
    "`dg/geometries/geometries.h` with the goal to provide more versatile grids and\n",
    "geometries and especially the utilities to model toroidal magnetic field geometries.\n",
    "Logically, this extension enhances Levels 3 and 4 of the original dg library.\n",
    "\n",
    "The following code demonstrates how to generate a structured orthogonal grid\n",
    "between two contour lines of a two-dimensional flux-function that models the\n",
    "magnetic flux in a magnetic confinement fusion device. We then use the\n",
    "volume form of this grid to compute the area integral of a function on the\n",
    "domain."
   ]
  },
  {
   "cell_type": "code",
   "execution_count": 2,
   "id": "90420c29",
   "metadata": {},
   "outputs": [],
   "source": [
    "#include <iostream>\n",
    "//include the dg-library\n",
    "#include \"dg/algorithm.h\"\n",
    "//include the geometries extension (introduces the dg::geo namespace)\n",
    "#include \"dg/geometries/geometries.h\""
   ]
  },
  {
   "cell_type": "code",
   "execution_count": 3,
   "id": "162d0332",
   "metadata": {},
   "outputs": [],
   "source": [
    "// define a function to integrate\n",
    "double function( double x, double y){\n",
    "    return x;\n",
    "}\n"
   ]
  },
  {
   "cell_type": "markdown",
   "id": "0f64ed67",
   "metadata": {
    "tags": [
     "remove-cell"
    ]
   },
   "source": [
    "The following just takes too long in cling to execute..."
   ]
  },
  {
   "cell_type": "markdown",
   "id": "1f5b6659",
   "metadata": {
    "scrolled": true
   },
   "source": [
    "```{code-block} cpp\n",
    "// parameters for the flux function\n",
    "dg::geo::solovev::Parameters p;\n",
    "p.A = 1.;\n",
    "p.c = { 0.104225846989823495731985393840,\n",
    "       -0.109784866431799048073838307831,\n",
    "        0.172906442397641706343124761278,\n",
    "       -0.0325732004904670117781012296259,\n",
    "        0.0100841711884676126632200269819,\n",
    "       -0.00334269397734777931041081168513,\n",
    "       -0.000108019045920744348891466483526,\n",
    "        0., 0., 0., 0., 0., 1.};\n",
    "p.R_0 = 547.891714877869;\n",
    "// indicate the two contour lines that bound the domain\n",
    "double psi_0 = -20., psi_1 = -4.;\n",
    "// create the flux function and its derivatives (up to 2nd order)\n",
    "dg::geo::CylindricalFunctorsLvl2 psip = dg::geo::solovev::createPsip( p);\n",
    "// create a grid generator for a simple orthogonal grid\n",
    "dg::geo::SimpleOrthogonal generator( psip, psi_0, psi_1, p.R_0, 0., 0);\n",
    "// create a grid with the help of the grid generator\n",
    "unsigned n = 3, Nx = 8, Ny = 80;\n",
    "dg::geo::CurvilinearGrid2d g2d( generator, n, Nx, Ny, dg::NEU);\n",
    "// get an element of the metric tensor\n",
    "dg::HVec g_xy = g2d.metric().value(0,1);\n",
    "// let's check if the xy element is really 0\n",
    "double zero = dg::blas1::dot( g_xy, g_xy);\n",
    "// lo and behold\n",
    "std::cout << \"Norm of off-diagonal element \" << zero << \"\\n\";\n",
    "// create the volume form\n",
    "dg::HVec vol2d = dg::create::volume( g2d);\n",
    "// pull back the function to the grid coordinates\n",
    "dg::HVec f = dg::pullback( function, g2d);\n",
    "// compute the area integral on the grid domain\n",
    "double integral = dg::blas1::dot( vol2d, f);\n",
    "// rather large ... ( 6.122e7)\n",
    "std::cout << \"The integral is \" << integral << \"\\n\";\n",
    "```"
   ]
  },
  {
   "cell_type": "markdown",
   "id": "d3eb4e8a",
   "metadata": {},
   "source": [
    "The first part of the code just defines the parameters of our flux function and\n",
    "is very specific to the type of function we use here. In an application code we\n",
    "will typically write those parameters into an input file and then let the\n",
    "program read in the parameters. With the help of the function and its derivatives\n",
    "we can then construct a generator. This generator can then finally be used to\n",
    "construct a grid. In fact, it constructs the complete coordinate transformation\n",
    "including the Jacobian and metric tensors. Note that the whole process is\n",
    "fully customizable, meaning you can create your own functions, create your\n",
    "own grid generator or even your own grid by deriving from the relevant\n",
    "abstract base class. The documentation will provide further detail on this.\n",
    "\n",
    "The important thing to notice here is that the `dg::geo::CurvilinearGrid2d` is of\n",
    "course fully compatible with the dg library, which means\n",
    "we can evaluate functions, create derivatives and solve equations on the new grid\n",
    "in the same way we did in the previous chapters.\n",
    "In the example code above we just use some basic operations to demonstrate this point.\n",
    "\n",
    "One thing to look out for is to use `dg::pullback` instead of `dg::evaluate` to\n",
    "discretize functions on the grid. The distinction is the coordinate system\n",
    "in which we define our function. In this case we define `function` in\n",
    "Cartesian coordinates rather than in the transformed computational coordinates.\n",
    "As the name suggests `dg::pullback` pulls the function from Cartesian back to\n",
    "computational coordinates. In the example above `f` represents `x(zeta, eta)`, where `zeta` and `eta` are the computational space coordinates. See our\n",
    "publication\n",
    " [Streamline integration as a method for two-dimensional elliptic grid generation](https://doi.org/10.1016/j.jcp.2017.03.056) for more details on this point and also\n",
    " on the grid generation method used."
   ]
  },
  {
   "cell_type": "code",
   "execution_count": null,
   "id": "4b772e7c",
   "metadata": {},
   "outputs": [],
   "source": []
  }
 ],
 "metadata": {
  "celltoolbar": "Tags",
  "kernelspec": {
   "display_name": "C++14",
   "language": "C++14",
   "name": "xcpp14"
  },
  "language_info": {
   "codemirror_mode": "text/x-c++src",
   "file_extension": ".cpp",
   "mimetype": "text/x-c++src",
   "name": "c++",
   "version": "14"
  }
 },
 "nbformat": 4,
 "nbformat_minor": 5
}
