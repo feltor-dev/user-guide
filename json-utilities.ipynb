{
 "cells": [
  {
   "cell_type": "code",
   "execution_count": 1,
   "id": "0ba73a43",
   "metadata": {
    "scrolled": true,
    "tags": [
     "remove-cell"
    ]
   },
   "outputs": [
    {
     "name": "stderr",
     "output_type": "stream",
     "text": [
      "In file included from input_line_8:2:\n",
      "In file included from ../feltor/inc/dg/algorithm.h:8:\n",
      "\u001b[1m../feltor/inc/dg/backend/config.h:20:9: \u001b[0m\u001b[0;1;35mwarning: \u001b[0m\u001b[1mNOTE: Fast std::fma(a,b,c) not activated! Using a*b+c instead! [-W#pragma-messages]\u001b[0m\n",
      "#pragma message( \"NOTE: Fast std::fma(a,b,c) not activated! Using a*b+c instead!\")\n",
      "\u001b[0;1;32m        ^\n",
      "\u001b[0mIn file included from input_line_8:2:\n",
      "In file included from ../feltor/inc/dg/algorithm.h:11:\n",
      "In file included from ../feltor/inc/dg/topology/split_and_join.h:4:\n",
      "In file included from ../feltor/inc/dg/backend/blas1_dispatch_shared.h:12:\n",
      "In file included from ../feltor/inc/dg/backend/blas1_serial.h:6:\n",
      "In file included from ../feltor/inc/dg/backend/exblas/exdot_serial.h:25:\n",
      "In file included from ../feltor/inc/dg/backend/exblas/accumulate.h:19:\n",
      "\u001b[1m../feltor/inc/dg/backend/exblas/config.h:31:9: \u001b[0m\u001b[0;1;35mwarning: \u001b[0m\u001b[1mWARNING: Instruction set below SSE4.1! Deactivating vectorization!\n",
      "      [-W#pragma-messages]\u001b[0m\n",
      "#pragma message(\"WARNING: Instruction set below SSE4.1! Deactivating vectorization!\")\n",
      "\u001b[0;1;32m        ^\n",
      "\u001b[0mIn file included from input_line_8:2:\n",
      "In file included from ../feltor/inc/dg/algorithm.h:11:\n",
      "In file included from ../feltor/inc/dg/topology/split_and_join.h:4:\n",
      "In file included from ../feltor/inc/dg/backend/blas1_dispatch_shared.h:12:\n",
      "In file included from ../feltor/inc/dg/backend/blas1_serial.h:6:\n",
      "In file included from ../feltor/inc/dg/backend/exblas/exdot_serial.h:25:\n",
      "\u001b[1m../feltor/inc/dg/backend/exblas/accumulate.h:93:43: \u001b[0m\u001b[0;1;35mwarning: \u001b[0m\u001b[1mshifting a negative signed value is undefined [-Wshift-negative-value]\u001b[0m\n",
      "        carrybit = (s ? 1ll << KRX : -1ll << KRX);\n",
      "\u001b[0;1;32m                                     ~~~~ ^\n",
      "\u001b[0mIn file included from input_line_8:2:\n",
      "In file included from ../feltor/inc/dg/algorithm.h:11:\n",
      "In file included from ../feltor/inc/dg/topology/split_and_join.h:4:\n",
      "In file included from ../feltor/inc/dg/backend/blas1_dispatch_shared.h:12:\n",
      "In file included from ../feltor/inc/dg/backend/blas1_serial.h:6:\n",
      "In file included from ../feltor/inc/dg/backend/exblas/exdot_serial.h:26:\n",
      "\u001b[1m../feltor/inc/dg/backend/exblas/ExSUM.FPE.hpp:143:46: \u001b[0m\u001b[0;1;35mwarning: \u001b[0m\u001b[1munknown attribute 'optimize' ignored [-Wunknown-attributes]\u001b[0m\n",
      "template<typename T, int N, typename TRAITS> UNROLL_ATTRIBUTE\n",
      "\u001b[0;1;32m                                             ^\n",
      "\u001b[0m\u001b[1m../feltor/inc/dg/backend/exblas/config.h:42:41: \u001b[0m\u001b[0;1;30mnote: \u001b[0mexpanded from macro 'UNROLL_ATTRIBUTE'\u001b[0m\n",
      "#define UNROLL_ATTRIBUTE __attribute__((optimize(\"unroll-loops\")))\n",
      "\u001b[0;1;32m                                        ^\n",
      "\u001b[0mIn file included from input_line_8:2:\n",
      "In file included from ../feltor/inc/dg/algorithm.h:11:\n",
      "In file included from ../feltor/inc/dg/topology/split_and_join.h:4:\n",
      "In file included from ../feltor/inc/dg/backend/blas1_dispatch_shared.h:12:\n",
      "In file included from ../feltor/inc/dg/backend/blas1_serial.h:6:\n",
      "In file included from ../feltor/inc/dg/backend/exblas/exdot_serial.h:26:\n",
      "\u001b[1m../feltor/inc/dg/backend/exblas/ExSUM.FPE.hpp:189:46: \u001b[0m\u001b[0;1;35mwarning: \u001b[0m\u001b[1munknown attribute 'optimize' ignored [-Wunknown-attributes]\u001b[0m\n",
      "template<typename T, int N, typename TRAITS> UNROLL_ATTRIBUTE\n",
      "\u001b[0;1;32m                                             ^\n",
      "\u001b[0m\u001b[1m../feltor/inc/dg/backend/exblas/config.h:42:41: \u001b[0m\u001b[0;1;30mnote: \u001b[0mexpanded from macro 'UNROLL_ATTRIBUTE'\u001b[0m\n",
      "#define UNROLL_ATTRIBUTE __attribute__((optimize(\"unroll-loops\")))\n",
      "\u001b[0;1;32m                                        ^\n",
      "\u001b[0mIn file included from input_line_8:2:\n",
      "In file included from ../feltor/inc/dg/algorithm.h:11:\n",
      "In file included from ../feltor/inc/dg/topology/split_and_join.h:4:\n",
      "In file included from ../feltor/inc/dg/backend/blas1_dispatch_shared.h:12:\n",
      "In file included from ../feltor/inc/dg/backend/blas1_serial.h:6:\n",
      "In file included from ../feltor/inc/dg/backend/exblas/exdot_serial.h:26:\n",
      "\u001b[1m../feltor/inc/dg/backend/exblas/ExSUM.FPE.hpp:221:46: \u001b[0m\u001b[0;1;35mwarning: \u001b[0m\u001b[1munknown attribute 'optimize' ignored [-Wunknown-attributes]\u001b[0m\n",
      "template<typename T, int N, typename TRAITS> UNROLL_ATTRIBUTE\n",
      "\u001b[0;1;32m                                             ^\n",
      "\u001b[0m\u001b[1m../feltor/inc/dg/backend/exblas/config.h:42:41: \u001b[0m\u001b[0;1;30mnote: \u001b[0mexpanded from macro 'UNROLL_ATTRIBUTE'\u001b[0m\n",
      "#define UNROLL_ATTRIBUTE __attribute__((optimize(\"unroll-loops\")))\n",
      "\u001b[0;1;32m                                        ^\n",
      "\u001b[0m"
     ]
    }
   ],
   "source": [
    "#pragma cling add_include_path(\"../../include\")\n",
    "#pragma cling add_include_path(\"/usr/include/jsoncpp\")\n",
    "#pragma cling add_include_path(\"../feltor/inc\") // Feltor path\n",
    "#pragma cling load(\"jsoncpp\")\n",
    "#define THRUST_DEVICE_SYSTEM THRUST_DEVICE_SYSTEM_CPP\n",
    "#include <iostream>\n",
    "#include \"dg/algorithm.h\"\n",
    "#include \"dg/file/json_utilities.h\""
   ]
  },
  {
   "cell_type": "markdown",
   "id": "5512c545",
   "metadata": {},
   "source": [
    "# JSON utilities\n",
    "\n",
    "We use the [jsoncpp](https://github.com/open-source-parsers/jsoncpp) library to parse json files. We chose it because it is widely used, very well maintained and even available as a linux package `libjsoncpp`.\n",
    "\n",
    "## The `dg::file::file2Json` function\n",
    "The first simplification regards how comments and errors are treated on file opening. We provide a shortcut:"
   ]
  },
  {
   "cell_type": "code",
   "execution_count": 9,
   "id": "0edc19cc",
   "metadata": {},
   "outputs": [
    {
     "name": "stdout",
     "output_type": "stream",
     "text": [
      "\n",
      "An error occured while parsing does_not_exist.json\n",
      "*** File does not exist! *** \n",
      "\n"
     ]
    }
   ],
   "source": [
    "#include \"dg/file/json_utilities.h\"\n",
    "dg::file::WrappedJsonValue js;\n",
    "try{\n",
    "    dg::file::file2Json( \"does_not_exist.json\", js.asJson(),\n",
    "                    dg::file::comments::are_discarded,\n",
    "                    dg::file::error::is_throw);\n",
    "}catch( std::exception& e)\n",
    "{\n",
    "    std::cout << e.what();\n",
    "}"
   ]
  },
  {
   "cell_type": "markdown",
   "id": "950960e8",
   "metadata": {},
   "source": [
    "In this example we open a file where C-style comments are allowed but discarded, while an error on opening or reading the file leads to a throw (which if not captured leads to immediate abortion of the program).\n",
    "\n",
    "## The `dg::file::WrappedJsonValue` class\n",
    "For our purposes the only downside of jsoncpp is that missing values do not trigger a throw and to manually check existence somewhat clutters the code. At the same time missing values often result from silly mistakes, which in a high performance computing environment result in real avoidable cost (for example because you ran a simulation with a default value that you did not really intend to).\n",
    "\n",
    "For this reason we provide the `dg::file::WrappedJsonValue` class.\n",
    "It basically wraps the\n",
    "access to a `Json::Value` with guards that raise exceptions or display warnings in case an error occurs, for example when a key is misspelled,\n",
    "missing or has the wrong type.\n",
    "The goal is the composition of a good error message that helps a user\n",
    "quickly debug the input file.\n",
    "\n",
    "The Wrapper is necessary because Jsoncpp by default silently\n",
    "generates a new key in case it is not present which in our scenario is an\n",
    "invitation for stupid mistakes.\n",
    "You can use the `WrappedJsonValue` like a `Json::Value` with read-only access:"
   ]
  },
  {
   "cell_type": "code",
   "execution_count": 3,
   "id": "d44e0777",
   "metadata": {},
   "outputs": [],
   "source": [
    "dg::file::WrappedJsonValue ws;\n",
    "try{\n",
    "    dg::file::file2Json( \"test.json\", ws.asJson(),\n",
    "                    dg::file::comments::are_discarded,\n",
    "                    dg::file::error::is_throw);\n",
    "}catch( std::exception& e){ std::cerr << e.what();}"
   ]
  },
  {
   "cell_type": "code",
   "execution_count": 8,
   "id": "cf332c3b",
   "metadata": {},
   "outputs": [
    {
     "name": "stdout",
     "output_type": "stream",
     "text": [
      "Error in file test.json\n",
      "*** Key error: \"does not exist\":  not found.\n"
     ]
    }
   ],
   "source": [
    "try{\n",
    "    std::string hello = ws[ \"does not exist\"].asString();\n",
    "} catch ( std::exception& e){\n",
    "    std::cout << \"Error in file test.json\\n\";\n",
    "    std::cout << e.what()<<std::endl;\n",
    "}"
   ]
  },
  {
   "cell_type": "markdown",
   "id": "6bc1dd96",
   "metadata": {},
   "source": [
    "A feature of the class is that it keeps track of how a value is called.\n",
    "For example"
   ]
  },
  {
   "cell_type": "code",
   "execution_count": 5,
   "id": "76b7b72b",
   "metadata": {},
   "outputs": [],
   "source": [
    "void some_function( dg::file::WrappedJsonValue ws)\n",
    "{\n",
    "    int value = ws[ \"some_non_existent_key\"].asUInt();\n",
    "    std::cout << value<<\"\\n\";\n",
    "}"
   ]
  },
  {
   "cell_type": "code",
   "execution_count": 6,
   "id": "b0203a5d",
   "metadata": {},
   "outputs": [
    {
     "name": "stdout",
     "output_type": "stream",
     "text": [
      "*** Key error: \"grid\": \"some_non_existent_key\":  not found.\n"
     ]
    }
   ],
   "source": [
    "try{\n",
    "    some_function( ws[\"grid\"]);\n",
    "} catch ( std::exception& e){ std::cout << e.what()<<std::endl; }\n"
   ]
  },
  {
   "cell_type": "markdown",
   "id": "d951bd3a",
   "metadata": {},
   "source": [
    "The what string knows that \"some_non_existent_key\" is expected to be\n",
    "contained in the \"grid\" key, which simplifies debugging to a great extent."
   ]
  },
  {
   "cell_type": "code",
   "execution_count": null,
   "id": "1c2c4594",
   "metadata": {},
   "outputs": [],
   "source": []
  }
 ],
 "metadata": {
  "celltoolbar": "Tags",
  "kernelspec": {
   "display_name": "C++14",
   "language": "C++14",
   "name": "xcpp14"
  },
  "language_info": {
   "codemirror_mode": "text/x-c++src",
   "file_extension": ".cpp",
   "mimetype": "text/x-c++src",
   "name": "c++",
   "version": "14"
  }
 },
 "nbformat": 4,
 "nbformat_minor": 5
}
