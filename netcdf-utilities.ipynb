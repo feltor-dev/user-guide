{
 "cells": [
  {
   "cell_type": "markdown",
   "id": "d126e449",
   "metadata": {},
   "source": [
    "# NetCDF utilities\n",
    "\n",
    "As a binary output format we recommend [NetCDF-4](https://www.unidata.ucar.edu/software/netcdf/). This format is widely used and bases on the HDF5 data format.\n",
    "```{note}\n",
    "We usually provide Meta-data in the file based on the [CF-conventions](https://cfconventions.org/)\n",
    "```\n",
    "\n",
    "```{seealso}\n",
    "Read more about the NetCDF data-model and [C documentation](https://www.unidata.ucar.edu/netcdf/docs)\n",
    "```\n",
    "\n",
    "## Handling errors from netcdf calls\n",
    "We provide a convenient class `dg.:file::NC_Error_Handle` which constructs from a netcdf return integer. If the integer is not zero it will throw."
   ]
  },
  {
   "cell_type": "code",
   "execution_count": 1,
   "id": "6302be7f",
   "metadata": {
    "scrolled": true,
    "tags": [
     "remove-cell"
    ]
   },
   "outputs": [
    {
     "name": "stderr",
     "output_type": "stream",
     "text": [
      "In file included from input_line_8:2:\n",
      "In file included from ../feltor/inc/dg/algorithm.h:8:\n",
      "\u001b[1m../feltor/inc/dg/backend/config.h:20:9: \u001b[0m\u001b[0;1;35mwarning: \u001b[0m\u001b[1mNOTE: Fast std::fma(a,b,c) not activated! Using a*b+c instead! [-W#pragma-messages]\u001b[0m\n",
      "#pragma message( \"NOTE: Fast std::fma(a,b,c) not activated! Using a*b+c instead!\")\n",
      "\u001b[0;1;32m        ^\n",
      "\u001b[0mIn file included from input_line_8:2:\n",
      "In file included from ../feltor/inc/dg/algorithm.h:11:\n",
      "In file included from ../feltor/inc/dg/topology/split_and_join.h:4:\n",
      "In file included from ../feltor/inc/dg/backend/blas1_dispatch_shared.h:12:\n",
      "In file included from ../feltor/inc/dg/backend/blas1_serial.h:6:\n",
      "In file included from ../feltor/inc/dg/backend/exblas/exdot_serial.h:25:\n",
      "In file included from ../feltor/inc/dg/backend/exblas/accumulate.h:19:\n",
      "\u001b[1m../feltor/inc/dg/backend/exblas/config.h:31:9: \u001b[0m\u001b[0;1;35mwarning: \u001b[0m\u001b[1mWARNING: Instruction set below SSE4.1! Deactivating vectorization!\n",
      "      [-W#pragma-messages]\u001b[0m\n",
      "#pragma message(\"WARNING: Instruction set below SSE4.1! Deactivating vectorization!\")\n",
      "\u001b[0;1;32m        ^\n",
      "\u001b[0mIn file included from input_line_8:2:\n",
      "In file included from ../feltor/inc/dg/algorithm.h:11:\n",
      "In file included from ../feltor/inc/dg/topology/split_and_join.h:4:\n",
      "In file included from ../feltor/inc/dg/backend/blas1_dispatch_shared.h:12:\n",
      "In file included from ../feltor/inc/dg/backend/blas1_serial.h:6:\n",
      "In file included from ../feltor/inc/dg/backend/exblas/exdot_serial.h:25:\n",
      "\u001b[1m../feltor/inc/dg/backend/exblas/accumulate.h:93:43: \u001b[0m\u001b[0;1;35mwarning: \u001b[0m\u001b[1mshifting a negative signed value is undefined [-Wshift-negative-value]\u001b[0m\n",
      "        carrybit = (s ? 1ll << KRX : -1ll << KRX);\n",
      "\u001b[0;1;32m                                     ~~~~ ^\n",
      "\u001b[0mIn file included from input_line_8:2:\n",
      "In file included from ../feltor/inc/dg/algorithm.h:11:\n",
      "In file included from ../feltor/inc/dg/topology/split_and_join.h:4:\n",
      "In file included from ../feltor/inc/dg/backend/blas1_dispatch_shared.h:12:\n",
      "In file included from ../feltor/inc/dg/backend/blas1_serial.h:6:\n",
      "In file included from ../feltor/inc/dg/backend/exblas/exdot_serial.h:26:\n",
      "\u001b[1m../feltor/inc/dg/backend/exblas/ExSUM.FPE.hpp:143:46: \u001b[0m\u001b[0;1;35mwarning: \u001b[0m\u001b[1munknown attribute 'optimize' ignored [-Wunknown-attributes]\u001b[0m\n",
      "template<typename T, int N, typename TRAITS> UNROLL_ATTRIBUTE\n",
      "\u001b[0;1;32m                                             ^\n",
      "\u001b[0m\u001b[1m../feltor/inc/dg/backend/exblas/config.h:42:41: \u001b[0m\u001b[0;1;30mnote: \u001b[0mexpanded from macro 'UNROLL_ATTRIBUTE'\u001b[0m\n",
      "#define UNROLL_ATTRIBUTE __attribute__((optimize(\"unroll-loops\")))\n",
      "\u001b[0;1;32m                                        ^\n",
      "\u001b[0mIn file included from input_line_8:2:\n",
      "In file included from ../feltor/inc/dg/algorithm.h:11:\n",
      "In file included from ../feltor/inc/dg/topology/split_and_join.h:4:\n",
      "In file included from ../feltor/inc/dg/backend/blas1_dispatch_shared.h:12:\n",
      "In file included from ../feltor/inc/dg/backend/blas1_serial.h:6:\n",
      "In file included from ../feltor/inc/dg/backend/exblas/exdot_serial.h:26:\n",
      "\u001b[1m../feltor/inc/dg/backend/exblas/ExSUM.FPE.hpp:189:46: \u001b[0m\u001b[0;1;35mwarning: \u001b[0m\u001b[1munknown attribute 'optimize' ignored [-Wunknown-attributes]\u001b[0m\n",
      "template<typename T, int N, typename TRAITS> UNROLL_ATTRIBUTE\n",
      "\u001b[0;1;32m                                             ^\n",
      "\u001b[0m\u001b[1m../feltor/inc/dg/backend/exblas/config.h:42:41: \u001b[0m\u001b[0;1;30mnote: \u001b[0mexpanded from macro 'UNROLL_ATTRIBUTE'\u001b[0m\n",
      "#define UNROLL_ATTRIBUTE __attribute__((optimize(\"unroll-loops\")))\n",
      "\u001b[0;1;32m                                        ^\n",
      "\u001b[0mIn file included from input_line_8:2:\n",
      "In file included from ../feltor/inc/dg/algorithm.h:11:\n",
      "In file included from ../feltor/inc/dg/topology/split_and_join.h:4:\n",
      "In file included from ../feltor/inc/dg/backend/blas1_dispatch_shared.h:12:\n",
      "In file included from ../feltor/inc/dg/backend/blas1_serial.h:6:\n",
      "In file included from ../feltor/inc/dg/backend/exblas/exdot_serial.h:26:\n",
      "\u001b[1m../feltor/inc/dg/backend/exblas/ExSUM.FPE.hpp:221:46: \u001b[0m\u001b[0;1;35mwarning: \u001b[0m\u001b[1munknown attribute 'optimize' ignored [-Wunknown-attributes]\u001b[0m\n",
      "template<typename T, int N, typename TRAITS> UNROLL_ATTRIBUTE\n",
      "\u001b[0;1;32m                                             ^\n",
      "\u001b[0m\u001b[1m../feltor/inc/dg/backend/exblas/config.h:42:41: \u001b[0m\u001b[0;1;30mnote: \u001b[0mexpanded from macro 'UNROLL_ATTRIBUTE'\u001b[0m\n",
      "#define UNROLL_ATTRIBUTE __attribute__((optimize(\"unroll-loops\")))\n",
      "\u001b[0;1;32m                                        ^\n",
      "\u001b[0m"
     ]
    }
   ],
   "source": [
    "#pragma cling add_include_path(\"../../include\")\n",
    "#pragma cling add_include_path(\"../feltor/inc\") // Feltor path\n",
    "#pragma cling add_include_path(\"/usr/local/include\")\n",
    "#pragma cling load(\"netcdf\")\n",
    "#define THRUST_DEVICE_SYSTEM THRUST_DEVICE_SYSTEM_CPP\n",
    "#include <iostream>\n",
    "#include \"dg/algorithm.h\"\n",
    "#include \"dg/file/nc_utilities.h\""
   ]
  },
  {
   "cell_type": "code",
   "execution_count": 2,
   "id": "406ea5e2",
   "metadata": {},
   "outputs": [],
   "source": [
    "#include \"dg/file/nc_utilities.h\"\n",
    "\n",
    "dg::file::NC_Error_Handle err;\n",
    "int ncid=-1;\n",
    "try{\n",
    "    err = nc_create( \"outputfile.nc\", NC_NETCDF4|NC_CLOBBER, &ncid);\n",
    "}catch( std::exception& e)\n",
    "{\n",
    "    std::cerr << \"ERROR creating file outputfile.nc\"<<std::endl;\n",
    "    std::cerr << e.what()<<std::endl;\n",
    "}"
   ]
  },
  {
   "cell_type": "markdown",
   "id": "bd6d74eb",
   "metadata": {},
   "source": [
    "## Defining and writing variables\n",
    "The NetCDF-4 standard mandates that a variable should have dimensions and data."
   ]
  },
  {
   "cell_type": "code",
   "execution_count": 5,
   "id": "a8a31a0e",
   "metadata": {},
   "outputs": [],
   "source": [
    " err = nc_close(ncid);"
   ]
  },
  {
   "cell_type": "markdown",
   "id": "3daa2aad",
   "metadata": {},
   "source": []
  }
 ],
 "metadata": {
  "celltoolbar": "Tags",
  "kernelspec": {
   "display_name": "C++14",
   "language": "C++14",
   "name": "xcpp14"
  },
  "language_info": {
   "codemirror_mode": "text/x-c++src",
   "file_extension": ".cpp",
   "mimetype": "text/x-c++src",
   "name": "c++",
   "version": "14"
  }
 },
 "nbformat": 4,
 "nbformat_minor": 5
}
