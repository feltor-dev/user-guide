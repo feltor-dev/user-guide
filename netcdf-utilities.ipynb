{
 "cells": [
  {
   "cell_type": "markdown",
   "id": "d126e449",
   "metadata": {},
   "source": [
    "# NetCDF utilities\n",
    "\n",
    "As a binary output format we recommend [netCDF-4](https://www.unidata.ucar.edu/software/netcdf/). This format is widely used and bases on the HDF5 data format. Even though netCDF-4 offers an enhanced data model we usually do not create groups in files. In short, we use netcdf-4 for its HDF5 compatibility but only write the [The classic data model](https://www.unidata.ucar.edu/software/netcdf/docs/netcdf_data_model.html#classic_model) consisting of _Variables_, _Dimensions_ and _Attributes_.\n",
    "```{admonition} Conventions\n",
    "We usually provide Meta-data in the file based on the [CF-conventions](https://cfconventions.org/) and [netCDF-conventions](https://www.unidata.ucar.edu/software/netcdf/documentation/NUG/best_practices.html). See the [Create your own project](sec:project) page for more details on how to do this in practice.\n",
    "```\n",
    "\n",
    "```{seealso}\n",
    "Read more about the [NetCDF user-guide](https://docs.unidata.ucar.edu/nug/current/best_practices.html) and [C documentation](https://www.unidata.ucar.edu/netcdf/docs) and [python documentation](http://unidata.github.io/netcdf4-python/)\n",
    "```\n",
    "The goal of writing utility functions is to \n",
    "- simplify error handling, \n",
    "- simplify the creation of Dimensions for quantities that are defined on `dg` grids\n",
    "- simplify the data management for writing `dg` data to file involved in a multi-threaded MPI program.\n",
    "\n",
    "## Handling errors from netcdf calls\n",
    "We provide a convenient class `dg.:file::NC_Error_Handle` which constructs from a netcdf return integer. If the integer is not zero it will throw."
   ]
  },
  {
   "cell_type": "code",
   "execution_count": 1,
   "id": "6302be7f",
   "metadata": {
    "scrolled": true,
    "tags": [
     "remove-cell"
    ]
   },
   "outputs": [
    {
     "name": "stderr",
     "output_type": "stream",
     "text": [
      "In file included from input_line_8:2:\n",
      "In file included from ../feltor/inc/dg/algorithm.h:8:\n",
      "\u001b[1m../feltor/inc/dg/backend/config.h:20:9: \u001b[0m\u001b[0;1;35mwarning: \u001b[0m\u001b[1mNOTE: Fast std::fma(a,b,c) not activated! Using a*b+c instead! [-W#pragma-messages]\u001b[0m\n",
      "#pragma message( \"NOTE: Fast std::fma(a,b,c) not activated! Using a*b+c instead!\")\n",
      "\u001b[0;1;32m        ^\n",
      "\u001b[0mIn file included from input_line_8:2:\n",
      "In file included from ../feltor/inc/dg/algorithm.h:11:\n",
      "In file included from ../feltor/inc/dg/topology/split_and_join.h:4:\n",
      "In file included from ../feltor/inc/dg/backend/blas1_dispatch_shared.h:12:\n",
      "In file included from ../feltor/inc/dg/backend/blas1_serial.h:6:\n",
      "In file included from ../feltor/inc/dg/backend/exblas/exdot_serial.h:25:\n",
      "In file included from ../feltor/inc/dg/backend/exblas/accumulate.h:19:\n",
      "\u001b[1m../feltor/inc/dg/backend/exblas/config.h:31:9: \u001b[0m\u001b[0;1;35mwarning: \u001b[0m\u001b[1mWARNING: Instruction set below SSE4.1! Deactivating vectorization!\n",
      "      [-W#pragma-messages]\u001b[0m\n",
      "#pragma message(\"WARNING: Instruction set below SSE4.1! Deactivating vectorization!\")\n",
      "\u001b[0;1;32m        ^\n",
      "\u001b[0mIn file included from input_line_8:2:\n",
      "In file included from ../feltor/inc/dg/algorithm.h:11:\n",
      "In file included from ../feltor/inc/dg/topology/split_and_join.h:4:\n",
      "In file included from ../feltor/inc/dg/backend/blas1_dispatch_shared.h:12:\n",
      "In file included from ../feltor/inc/dg/backend/blas1_serial.h:6:\n",
      "In file included from ../feltor/inc/dg/backend/exblas/exdot_serial.h:25:\n",
      "\u001b[1m../feltor/inc/dg/backend/exblas/accumulate.h:93:43: \u001b[0m\u001b[0;1;35mwarning: \u001b[0m\u001b[1mshifting a negative signed value is undefined [-Wshift-negative-value]\u001b[0m\n",
      "        carrybit = (s ? 1ll << KRX : -1ll << KRX);\n",
      "\u001b[0;1;32m                                     ~~~~ ^\n",
      "\u001b[0mIn file included from input_line_8:2:\n",
      "In file included from ../feltor/inc/dg/algorithm.h:11:\n",
      "In file included from ../feltor/inc/dg/topology/split_and_join.h:4:\n",
      "In file included from ../feltor/inc/dg/backend/blas1_dispatch_shared.h:12:\n",
      "In file included from ../feltor/inc/dg/backend/blas1_serial.h:6:\n",
      "In file included from ../feltor/inc/dg/backend/exblas/exdot_serial.h:26:\n",
      "\u001b[1m../feltor/inc/dg/backend/exblas/ExSUM.FPE.hpp:143:46: \u001b[0m\u001b[0;1;35mwarning: \u001b[0m\u001b[1munknown attribute 'optimize' ignored [-Wunknown-attributes]\u001b[0m\n",
      "template<typename T, int N, typename TRAITS> UNROLL_ATTRIBUTE\n",
      "\u001b[0;1;32m                                             ^\n",
      "\u001b[0m\u001b[1m../feltor/inc/dg/backend/exblas/config.h:42:41: \u001b[0m\u001b[0;1;30mnote: \u001b[0mexpanded from macro 'UNROLL_ATTRIBUTE'\u001b[0m\n",
      "#define UNROLL_ATTRIBUTE __attribute__((optimize(\"unroll-loops\")))\n",
      "\u001b[0;1;32m                                        ^\n",
      "\u001b[0mIn file included from input_line_8:2:\n",
      "In file included from ../feltor/inc/dg/algorithm.h:11:\n",
      "In file included from ../feltor/inc/dg/topology/split_and_join.h:4:\n",
      "In file included from ../feltor/inc/dg/backend/blas1_dispatch_shared.h:12:\n",
      "In file included from ../feltor/inc/dg/backend/blas1_serial.h:6:\n",
      "In file included from ../feltor/inc/dg/backend/exblas/exdot_serial.h:26:\n",
      "\u001b[1m../feltor/inc/dg/backend/exblas/ExSUM.FPE.hpp:189:46: \u001b[0m\u001b[0;1;35mwarning: \u001b[0m\u001b[1munknown attribute 'optimize' ignored [-Wunknown-attributes]\u001b[0m\n",
      "template<typename T, int N, typename TRAITS> UNROLL_ATTRIBUTE\n",
      "\u001b[0;1;32m                                             ^\n",
      "\u001b[0m\u001b[1m../feltor/inc/dg/backend/exblas/config.h:42:41: \u001b[0m\u001b[0;1;30mnote: \u001b[0mexpanded from macro 'UNROLL_ATTRIBUTE'\u001b[0m\n",
      "#define UNROLL_ATTRIBUTE __attribute__((optimize(\"unroll-loops\")))\n",
      "\u001b[0;1;32m                                        ^\n",
      "\u001b[0mIn file included from input_line_8:2:\n",
      "In file included from ../feltor/inc/dg/algorithm.h:11:\n",
      "In file included from ../feltor/inc/dg/topology/split_and_join.h:4:\n",
      "In file included from ../feltor/inc/dg/backend/blas1_dispatch_shared.h:12:\n",
      "In file included from ../feltor/inc/dg/backend/blas1_serial.h:6:\n",
      "In file included from ../feltor/inc/dg/backend/exblas/exdot_serial.h:26:\n",
      "\u001b[1m../feltor/inc/dg/backend/exblas/ExSUM.FPE.hpp:221:46: \u001b[0m\u001b[0;1;35mwarning: \u001b[0m\u001b[1munknown attribute 'optimize' ignored [-Wunknown-attributes]\u001b[0m\n",
      "template<typename T, int N, typename TRAITS> UNROLL_ATTRIBUTE\n",
      "\u001b[0;1;32m                                             ^\n",
      "\u001b[0m\u001b[1m../feltor/inc/dg/backend/exblas/config.h:42:41: \u001b[0m\u001b[0;1;30mnote: \u001b[0mexpanded from macro 'UNROLL_ATTRIBUTE'\u001b[0m\n",
      "#define UNROLL_ATTRIBUTE __attribute__((optimize(\"unroll-loops\")))\n",
      "\u001b[0;1;32m                                        ^\n",
      "\u001b[0m"
     ]
    }
   ],
   "source": [
    "#pragma cling add_include_path(\"../../include\")\n",
    "#pragma cling add_include_path(\"../feltor/inc\") // Feltor path\n",
    "#pragma cling add_include_path(\"/usr/local/include\")\n",
    "#pragma cling load(\"netcdf\")\n",
    "#define THRUST_DEVICE_SYSTEM THRUST_DEVICE_SYSTEM_CPP\n",
    "#include <iostream>\n",
    "#include \"dg/algorithm.h\"\n",
    "#include \"dg/file/nc_utilities.h\""
   ]
  },
  {
   "cell_type": "code",
   "execution_count": 2,
   "id": "406ea5e2",
   "metadata": {},
   "outputs": [],
   "source": [
    "#include \"dg/file/nc_utilities.h\"\n",
    "\n",
    "dg::file::NC_Error_Handle err;\n",
    "int ncid=-1;\n",
    "try{\n",
    "    err = nc_create( \"outputfile.nc\", NC_NETCDF4|NC_CLOBBER, &ncid);\n",
    "}catch( std::exception& e)\n",
    "{\n",
    "    std::cerr << \"ERROR creating file outputfile.nc\"<<std::endl;\n",
    "    std::cerr << e.what()<<std::endl;\n",
    "}"
   ]
  },
  {
   "cell_type": "markdown",
   "id": "bd6d74eb",
   "metadata": {},
   "source": [
    "## Defining dimensions\n",
    "We simplify the creation of dimensions given a `dg` grid. The product space nature of our grid maps directly to the netCDF data model. For example\n",
    "```cpp\n",
    "int dim_ids[3], tvarID;\n",
    "dg::CartesianGrid2d grid(...);\n",
    "err = dg::file::define_dimensions( ncid, dim_ids, &tvarID, grid,\n",
    "                {\"time\", \"y\", \"x\"});\n",
    "```\n",
    "\n",
    "creates three one-dimensional dimensions \"time\", \"x\" and \"y\" and corresponding dimension variables with the same names. The data for \"x\" and \"y\" is written directly to file and is generated from the Gaussian nodes of the grid in x and y directly. The time variable is an _unlimited_ variable expecting a time simulation with an unknown number of steps. Therefore, the function returns the id of the time variable for the user to write.\n",
    "```{seealso}\n",
    "See the `dg::file::define_dimensions` family of functions in the doxygen documentation. There is one for each grid.\n",
    "```\n",
    "\n",
    "## Defining and writing variables\n",
    "The netCDF-4 standard mandates that a variable should have dimensions and data.\n",
    "The netCDF C-interface already defines ready-to-use functions `nc_def_var`, `nc_put_var_double` (for writing variables in a single call) and `nc_put_vara_double` (for writing variables in chunks) for defining variables and writing data to file. The only issue when writing data to file is what to do in an MPI setting where the data is distributed among processes. NetCDF offers a parallel writing backend, however in our tests this turned out to be slow and the compilation and linking of a program becomes more complicated.\n",
    "\n",
    "A better approach is to use **serial netCDF**. Simply send all data to the master process, which then funnels the data into the output file. The management of these data transfers and communication is hidden in the `dg::file::put_var_double` and `dg::file::put_vara_double` family of functions.\n",
    "```cpp\n",
    "int varID;\n",
    "std::string name = \"variable\";\n",
    "// only the master thread needs to define the variable\n",
    "DG_RANK0 err = nc_def_var( ncid, name.data(), NC_DOUBLE, 3, dim_ids, &varID);\n",
    "// generate data\n",
    "dg::x::HVec transferH = ...; \n",
    "int start = 0; // which timestep\n",
    "// all threads need to call the writing function\n",
    "dg::file::put_vara_double( ncid, varID, start, grid, transferH);\n",
    "```\n",
    "In a serial environment the `dg::file::put_var[a]_double` functions become simple wrappers around the corresponding netCDF function. They can therefore be used in a platform independent environment.\n",
    "````{note}\n",
    "If you actually do want to use the _parallel netcdf_ interface, you can use a hidden parameter in the function\n",
    "```cpp\n",
    "// now each process writes to the file in parallel\n",
    "dg::file::put_vara_double( ncid, varID, start, grid, transferH, true);\n",
    "```\n",
    "````\n"
   ]
  },
  {
   "cell_type": "code",
   "execution_count": 5,
   "id": "a8a31a0e",
   "metadata": {},
   "outputs": [],
   "source": [
    " err = nc_close(ncid);"
   ]
  },
  {
   "cell_type": "markdown",
   "id": "3daa2aad",
   "metadata": {},
   "source": []
  }
 ],
 "metadata": {
  "celltoolbar": "Tags",
  "kernelspec": {
   "display_name": "C++14",
   "language": "C++14",
   "name": "xcpp14"
  },
  "language_info": {
   "codemirror_mode": "text/x-c++src",
   "file_extension": ".cpp",
   "mimetype": "text/x-c++src",
   "name": "c++",
   "version": "14"
  }
 },
 "nbformat": 4,
 "nbformat_minor": 5
}
