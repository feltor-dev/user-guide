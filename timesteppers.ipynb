{
 "cells": [
  {
   "cell_type": "code",
   "execution_count": 1,
   "id": "8f4843c0",
   "metadata": {
    "scrolled": true,
    "tags": [
     "remove-cell"
    ]
   },
   "outputs": [
    {
     "name": "stderr",
     "output_type": "stream",
     "text": [
      "In file included from input_line_8:2:\n",
      "In file included from ../../include/dg/algorithm.h:8:\n",
      "\u001b[1m../../include/dg/backend/config.h:20:9: \u001b[0m\u001b[0;1;35mwarning: \u001b[0m\u001b[1mNOTE: Fast std::fma(a,b,c) not activated! Using a*b+c instead!\n",
      "      [-W#pragma-messages]\u001b[0m\n",
      "#pragma message( \"NOTE: Fast std::fma(a,b,c) not activated! Using a*b+c ...\n",
      "\u001b[0;1;32m        ^\n",
      "\u001b[0mIn file included from input_line_8:2:\n",
      "In file included from ../../include/dg/algorithm.h:11:\n",
      "In file included from ../../include/dg/topology/split_and_join.h:4:\n",
      "In file included from ../../include/dg/backend/blas1_dispatch_shared.h:12:\n",
      "In file included from ../../include/dg/backend/blas1_serial.h:6:\n",
      "In file included from ../../include/dg/backend/exblas/exdot_serial.h:25:\n",
      "In file included from ../../include/dg/backend/exblas/accumulate.h:19:\n",
      "\u001b[1m../../include/dg/backend/exblas/config.h:31:9: \u001b[0m\u001b[0;1;35mwarning: \u001b[0m\u001b[1mWARNING: Instruction set below SSE4.1! Deactivating vectorization!\n",
      "      [-W#pragma-messages]\u001b[0m\n",
      "#pragma message(\"WARNING: Instruction set below SSE4.1! Deactivating vec...\n",
      "\u001b[0;1;32m        ^\n",
      "\u001b[0mIn file included from input_line_8:2:\n",
      "In file included from ../../include/dg/algorithm.h:11:\n",
      "In file included from ../../include/dg/topology/split_and_join.h:4:\n",
      "In file included from ../../include/dg/backend/blas1_dispatch_shared.h:12:\n",
      "In file included from ../../include/dg/backend/blas1_serial.h:6:\n",
      "In file included from ../../include/dg/backend/exblas/exdot_serial.h:25:\n",
      "\u001b[1m../../include/dg/backend/exblas/accumulate.h:93:43: \u001b[0m\u001b[0;1;35mwarning: \u001b[0m\u001b[1mshifting a negative signed value is undefined [-Wshift-negative-value]\u001b[0m\n",
      "        carrybit = (s ? 1ll << KRX : -1ll << KRX);\n",
      "\u001b[0;1;32m                                     ~~~~ ^\n",
      "\u001b[0mIn file included from input_line_8:2:\n",
      "In file included from ../../include/dg/algorithm.h:11:\n",
      "In file included from ../../include/dg/topology/split_and_join.h:4:\n",
      "In file included from ../../include/dg/backend/blas1_dispatch_shared.h:12:\n",
      "In file included from ../../include/dg/backend/blas1_serial.h:6:\n",
      "In file included from ../../include/dg/backend/exblas/exdot_serial.h:26:\n",
      "\u001b[1m../../include/dg/backend/exblas/ExSUM.FPE.hpp:143:46: \u001b[0m\u001b[0;1;35mwarning: \u001b[0m\u001b[1munknown attribute 'optimize' ignored [-Wunknown-attributes]\u001b[0m\n",
      "template<typename T, int N, typename TRAITS> UNROLL_ATTRIBUTE\n",
      "\u001b[0;1;32m                                             ^\n",
      "\u001b[0m\u001b[1m../../include/dg/backend/exblas/config.h:42:41: \u001b[0m\u001b[0;1;30mnote: \u001b[0mexpanded from macro 'UNROLL_ATTRIBUTE'\u001b[0m\n",
      "#define UNROLL_ATTRIBUTE __attribute__((optimize(\"unroll-loops\")))\n",
      "\u001b[0;1;32m                                        ^\n",
      "\u001b[0mIn file included from input_line_8:2:\n",
      "In file included from ../../include/dg/algorithm.h:11:\n",
      "In file included from ../../include/dg/topology/split_and_join.h:4:\n",
      "In file included from ../../include/dg/backend/blas1_dispatch_shared.h:12:\n",
      "In file included from ../../include/dg/backend/blas1_serial.h:6:\n",
      "In file included from ../../include/dg/backend/exblas/exdot_serial.h:26:\n",
      "\u001b[1m../../include/dg/backend/exblas/ExSUM.FPE.hpp:189:46: \u001b[0m\u001b[0;1;35mwarning: \u001b[0m\u001b[1munknown attribute 'optimize' ignored [-Wunknown-attributes]\u001b[0m\n",
      "template<typename T, int N, typename TRAITS> UNROLL_ATTRIBUTE\n",
      "\u001b[0;1;32m                                             ^\n",
      "\u001b[0m\u001b[1m../../include/dg/backend/exblas/config.h:42:41: \u001b[0m\u001b[0;1;30mnote: \u001b[0mexpanded from macro 'UNROLL_ATTRIBUTE'\u001b[0m\n",
      "#define UNROLL_ATTRIBUTE __attribute__((optimize(\"unroll-loops\")))\n",
      "\u001b[0;1;32m                                        ^\n",
      "\u001b[0mIn file included from input_line_8:2:\n",
      "In file included from ../../include/dg/algorithm.h:11:\n",
      "In file included from ../../include/dg/topology/split_and_join.h:4:\n",
      "In file included from ../../include/dg/backend/blas1_dispatch_shared.h:12:\n",
      "In file included from ../../include/dg/backend/blas1_serial.h:6:\n",
      "In file included from ../../include/dg/backend/exblas/exdot_serial.h:26:\n",
      "\u001b[1m../../include/dg/backend/exblas/ExSUM.FPE.hpp:221:46: \u001b[0m\u001b[0;1;35mwarning: \u001b[0m\u001b[1munknown attribute 'optimize' ignored [-Wunknown-attributes]\u001b[0m\n",
      "template<typename T, int N, typename TRAITS> UNROLL_ATTRIBUTE\n",
      "\u001b[0;1;32m                                             ^\n",
      "\u001b[0m\u001b[1m../../include/dg/backend/exblas/config.h:42:41: \u001b[0m\u001b[0;1;30mnote: \u001b[0mexpanded from macro 'UNROLL_ATTRIBUTE'\u001b[0m\n",
      "#define UNROLL_ATTRIBUTE __attribute__((optimize(\"unroll-loops\")))\n",
      "\u001b[0;1;32m                                        ^\n",
      "\u001b[0m"
     ]
    }
   ],
   "source": [
    "#pragma cling add_include_path(\"../../include\")\n",
    "#pragma cling add_include_path(\"../feltor/inc\") // Feltor path\n",
    "#define THRUST_DEVICE_SYSTEM THRUST_DEVICE_SYSTEM_CPP\n",
    "#include <iostream>\n",
    "#include \"dg/algorithm.h\""
   ]
  },
  {
   "cell_type": "markdown",
   "id": "0f7b70db",
   "metadata": {},
   "source": [
    "# Timesteppers\n",
    "\n",
    "In order to implement a Runge-Kutta or multistep algorithms we realize that we need to be able to solve two general types of equations (see [overleaf pdf](https://www.overleaf.com/read/dfxncmnnpzfm)):\n",
    "\\begin{align}\n",
    "    k =  M(y,t)^{-1} \\cdot F(y,t) &\\text{ given $t,y$ return $k$} \\\\\n",
    "    M(y,t)\\cdot ( y-y^*) - \\alpha F(y,t) = 0 &\\text{ given $\\alpha, t, y^*$ return $y$} \n",
    "\\end{align}\n",
    " Now we realize that in order to implement the timestepper\n",
    "we need to know neither $F$ nor $M$ nor the solver\n",
    "method that is used.\n",
    "```{note}\n",
    "The user just needs to provide oblique\n",
    "objects that given $t,y$ return a new $k$ solving and/or given $\\alpha$, $t$ and $y^*$ solve and return a new $y$. \n",
    "```\n",
    "\n",
    "Since explicit and implicit methods require widely different solvers (with different parameters etc.) Feltor provides separate classes for explicit and implicit timesteppers as well as a final imex timestepper [documentation](https://feltor-dev.github.io/doc/dg/html/group__time.html).\n",
    "There are many possibilities on how these solvers can be implemented and what solvers to use depending on the form of $F$ and $M$.  The solvers range from linear to non-linear to a linear or non-linear multigrid solver. Sometimes some elements in $y$ decouple from the rest and can be solved differently and sometimes the lines in the implicit solve are extended to include potential equations.\n",
    "The only thing we can do is provide easy to use building blocks and guidelines on how to build these solvers from elementary linear, nonlinear and multigrid solvers."
   ]
  },
  {
   "cell_type": "markdown",
   "id": "56442900",
   "metadata": {},
   "source": [
    "Generally we need three things to solve an ODE numerically \n",
    " - **the ode itself**, this has to be provided by the user as the right hand side functor or tuple of functors including the solver method if an implicit stepper is used and then tied to a single object typically using `std::tie`, e.g. `std::tie( ex, solve);`\n",
    " - **the stepper method** ( there are several stepper classes each coming with a range of tableaus to chose from: Runge Kutta vs Multistep, explicit vs implicit and more) e.g. `dg::ExplicitMultistep<Vector>`\n",
    " - **the timeloop** (adaptive timestep vs fixed timestep) -> can be implemented by the user or in Feltor represented by an instance of `dg::aTimeloop` class (useful if one wants to choose a method at runtime) e.g. `dg::AdaptiveTimeloop<Vector>`. The timeloop includes the **initial condition** and the integration boundaries (these are the paramters to the integrate function) `timeloop.integrate( t0, u0, t1, u1);`\n",
    " .\n",
    " \n",
    "We will now study a few case scenarios."
   ]
  },
  {
   "cell_type": "markdown",
   "id": "5ba773be",
   "metadata": {},
   "source": [
    "## Integrate ODEs in Feltor - first timesteppers and simple time loops\n",
    "\n",
    "We solve the damped driven harmonic oscillator\n",
    "\\begin{align}\n",
    "    \\frac{d x}{d t} &= v \\\\\n",
    "    \\frac{d v}{d t} &= -2 \\nu \\omega_0 v - \\omega_0^2 x + \\sin (\\omega_d t)\n",
    "\\end{align}\n",
    "Let us first choose some (somewhat random) parameters for it"
   ]
  },
  {
   "cell_type": "code",
   "execution_count": 2,
   "id": "d0c6a737",
   "metadata": {},
   "outputs": [],
   "source": [
    "const double damping = 0.2, omega_0 = 1.0, omega_drive = 0.9;"
   ]
  },
  {
   "cell_type": "markdown",
   "id": "117b477e",
   "metadata": {},
   "source": [
    "We know that we can solve this ODE analytically. This comes in handy to verify our implementation."
   ]
  },
  {
   "cell_type": "code",
   "execution_count": 3,
   "id": "b165dfe2",
   "metadata": {},
   "outputs": [],
   "source": [
    "// We have an analytical solution\n",
    "std::array<double,2> solution( double t)\n",
    "{\n",
    "    double tmp1 = (2.*omega_0*damping);\n",
    "    double tmp2 = (omega_0*omega_0 - omega_drive*omega_drive)/omega_drive;\n",
    "    double amp = 1./sqrt( tmp1*tmp1 + tmp2*tmp2);\n",
    "    double phi = atan( 2.*omega_drive*omega_0*damping/(omega_drive*omega_drive-omega_0*omega_0));\n",
    "    double x = amp*sin(omega_drive*t+phi)/omega_drive;\n",
    "    double v = amp*cos(omega_drive*t+phi);\n",
    "    return {x,v};\n",
    "}"
   ]
  },
  {
   "cell_type": "markdown",
   "id": "e9990027",
   "metadata": {},
   "source": [
    "### Explicit Runge-Kutta - fixed step\n",
    "\n",
    "In the first example we show how to implement a simple timeloop with a fixed stepsize Runge Kutta integrator. We choose the classic 4-th order scheme, but consult the [documentation](https://feltor-dev.github.io/doc/dg/html/group__time.html) for an extensive list of available tableaus."
   ]
  },
  {
   "cell_type": "code",
   "execution_count": 4,
   "id": "5c8f83af",
   "metadata": {},
   "outputs": [
    {
     "name": "stdout",
     "output_type": "stream",
     "text": [
      "Norm of error is 8.17315e-08\n"
     ]
    }
   ],
   "source": [
    "// The right hand side needs to be a callable function in Feltor.\n",
    "// In modern C++ this can for example be a lambda function:\n",
    "auto rhs = [&]( double t, const std::array<double,2>& y,\n",
    "            std::array<double,2>& yp)\n",
    "{\n",
    "    //damped driven harmonic oscillator\n",
    "    // x -> y[0] , v -> y[1]\n",
    "    yp[0] = y[1];\n",
    "    yp[1] = -2.*damping*omega_0*y[1] - omega_0*omega_0*y[0]\n",
    "            + sin(omega_drive*t);\n",
    "};\n",
    "// Let us choose an initial condition and the integration boundaries\n",
    "double t0 = 0., t1 = 1.;\n",
    "const std::array<double,2> u0 = solution(t0);\n",
    "\n",
    "// Here, we choose the classic Runge-Kutta scheme to solve\n",
    "dg::RungeKutta<std::array<double,2>> rk(\"Runge-Kutta-4-4\", u0);\n",
    "// Now we are ready to construct a time-loop by repeatedly stepping\n",
    "// the Runge Kutta solve with a constant timestep\n",
    "double t = t0;\n",
    "std::array<double,2> u1( u0);\n",
    "unsigned N = 20;\n",
    "for( unsigned i=0; i<N; i++)\n",
    "    rk.step( rhs, t, u1, t, u1, (t1-t0)/(double)N );\n",
    "\n",
    "// Now let us compute the error\n",
    "const std::array<double,2> sol = solution(t1);\n",
    "dg::blas1::axpby( 1., sol , -1., u1);\n",
    "std::cout << \"Norm of error is \" <<sqrt(dg::blas1::dot( u1, u1))<<\"\\n\";"
   ]
  },
  {
   "cell_type": "markdown",
   "id": "2c7e4e4b",
   "metadata": {},
   "source": [
    "### Implicit Multistep  - fixed step\n",
    "In the next example we want to solve the same ode with an implicit multistep method:"
   ]
  },
  {
   "cell_type": "code",
   "execution_count": 5,
   "id": "9dba09cb",
   "metadata": {},
   "outputs": [
    {
     "name": "stdout",
     "output_type": "stream",
     "text": [
      "Norm of error is 3.60666e-05\n"
     ]
    }
   ],
   "source": [
    "// First we need to provide a solution method for the prototypical implicit equation\n",
    "auto solve = [&]( double alpha, double t, std::array<double,2>& y,\n",
    "            const std::array<double,2>& yp)\n",
    "{\n",
    "    // y - alpha RHS( t, y) = rho\n",
    "    // can be solved analytically\n",
    "    y[1] = ( yp[1] + alpha*sin(omega_drive*t) - alpha*omega_0*omega_0*yp[0])/\n",
    "           (1.+2.*alpha*damping*omega_0+alpha*alpha*omega_0*omega_0);\n",
    "    y[0] = yp[0] + alpha*y[1];\n",
    "};\n",
    "// Now we can construct a multistep method\n",
    "dg::ImplicitMultistep<std::array<double,2>> multi(\"ImEx-BDF-3-3\", u0);\n",
    "// Let us choose the same initial conditions as before\n",
    "t = t0; u1 = u0;\n",
    "// Finally, we can construct a timeloop\n",
    "multi.init( std::tie( rhs, solve), t, u0, (t1-t0)/(double)N);\n",
    "for( unsigned i=0; i<N; i++)\n",
    "    multi.step( std::tie(rhs, solve), t, u1);\n",
    "\n",
    "dg::blas1::axpby( 1., sol , -1., u1);\n",
    "std::cout << \"Norm of error is \" <<sqrt(dg::blas1::dot( u1, u1))<<\"\\n\";\n",
    "//dg::make_odeint( dirk, std::tie( rhs, solve), (t1-t0)/20.)->integrate( t0, u0, t1, u1);"
   ]
  },
  {
   "cell_type": "markdown",
   "id": "a3b33e06",
   "metadata": {},
   "source": [
    "### Embedded explicit Runge Kutta - adaptive step\n",
    "As a last example we want to integrate the ode with an adaptive timestepper"
   ]
  },
  {
   "cell_type": "code",
   "execution_count": 6,
   "id": "da6561cd",
   "metadata": {},
   "outputs": [
    {
     "name": "stdout",
     "output_type": "stream",
     "text": [
      "Norm of error is 3.25209e-07 with 7 steps \n"
     ]
    }
   ],
   "source": [
    "dg::Adaptive<dg::ERKStep<std::array<double,2>>> adapt(\"Tsitouras11-7-4-5\", u0);\n",
    "t = t0; u1 = u0;\n",
    "double dt = 1e-6;\n",
    "while( t < t1)\n",
    "{\n",
    "    if( t + dt > t1)\n",
    "        dt = t1 - t;\n",
    "    adapt.step( rhs, t, u1, t, u1, dt, dg::pid_control, dg::fast_l2norm, 1e-6, 1e-6);\n",
    "}\n",
    "    \n",
    "dg::blas1::axpby( 1., sol , -1., u1);\n",
    "std::cout << \"Norm of error is \" <<sqrt(dg::blas1::dot( u1, u1))\n",
    "    <<\" with \"<<adapt.nsteps()<<\" steps \\n\";"
   ]
  },
  {
   "cell_type": "markdown",
   "id": "8d3aa211",
   "metadata": {},
   "source": [
    "## Abstract timeloops with dg::aTimeloop\n",
    "We have seen that the main difference between the three previous methods was how to construct the timeloop. Runge-Kutta was just a basic for loop, Multistep needed to be initialized before usage, while the adaptive stepper needed to run in a while loop and needed a bunch of additional parameters. We will now introduce\n",
    "an abstract interface that lets you choose at runtime which integration method to use:"
   ]
  },
  {
   "cell_type": "code",
   "execution_count": 10,
   "id": "fa993f1b",
   "metadata": {},
   "outputs": [
    {
     "name": "stdout",
     "output_type": "stream",
     "text": [
      "Norm of error is 3.25209e-07 with 7 steps \n",
      "Norm of error is 8.17315e-08 with 20 steps \n",
      "Norm of error is 3.60666e-05 with 20 steps \n"
     ]
    }
   ],
   "source": [
    "// A pointer to an abstract integrator\n",
    "using Vec = std::array<double,2>;\n",
    "auto odeint = std::unique_ptr<dg::aTimeloop<Vec>>();\n",
    "//\n",
    "dg::Adaptive<dg::ERKStep<Vec>> adapt(\"Tsitouras11-7-4-5\", u0);\n",
    "odeint = std::make_unique<dg::AdaptiveTimeloop<Vec>>( adapt, rhs, dg::pid_control, dg::fast_l2norm, 1e-6, 1e-6);\n",
    "odeint -> integrate(t0, u0, t1, u1);\n",
    "dg::blas1::axpby( 1., sol , -1., u1);\n",
    "std::cout << \"Norm of error is \" <<sqrt(dg::blas1::dot( u1, u1))\n",
    "    <<\" with \"<<adapt.nsteps()<<\" steps \\n\";\n",
    "// \n",
    "dg::RungeKutta<std::array<double,2>> rk(\"Runge-Kutta-4-4\", u0);\n",
    "odeint = std::make_unique<dg::SinglestepTimeloop<Vec>>( rk, rhs, (t1-t0)/(double)N);\n",
    "odeint -> integrate(t0, u0, t1, u1);\n",
    "dg::blas1::axpby( 1., sol , -1., u1);\n",
    "std::cout << \"Norm of error is \" <<sqrt(dg::blas1::dot( u1, u1))\n",
    "    <<\" with \"<<N<<\" steps \\n\";\n",
    "//\n",
    "dg::ImplicitMultistep<std::array<double,2>> multi(\"ImEx-BDF-3-3\", u0);\n",
    "auto tuple = std::tie( rhs, solve);\n",
    "odeint = std::make_unique<dg::MultistepTimeloop<Vec>>( multi, tuple, t0, u0, (t1-t0)/(double)N);\n",
    "odeint -> integrate(t0, u0, t1, u1);\n",
    "dg::blas1::axpby( 1., sol , -1., u1);\n",
    "std::cout << \"Norm of error is \" <<sqrt(dg::blas1::dot( u1, u1))\n",
    "    <<\" with \"<<N<<\" steps \\n\";"
   ]
  },
  {
   "cell_type": "code",
   "execution_count": null,
   "id": "a24d71b4",
   "metadata": {},
   "outputs": [],
   "source": []
  }
 ],
 "metadata": {
  "celltoolbar": "Tags",
  "kernelspec": {
   "display_name": "C++14",
   "language": "C++14",
   "name": "xcpp14"
  },
  "language_info": {
   "codemirror_mode": "text/x-c++src",
   "file_extension": ".cpp",
   "mimetype": "text/x-c++src",
   "name": "c++",
   "version": "14"
  }
 },
 "nbformat": 4,
 "nbformat_minor": 5
}
