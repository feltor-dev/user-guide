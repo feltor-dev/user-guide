{
 "cells": [
  {
   "cell_type": "code",
   "execution_count": 1,
   "id": "8f4843c0",
   "metadata": {
    "scrolled": true,
    "tags": [
     "remove-cell"
    ]
   },
   "outputs": [
    {
     "name": "stderr",
     "output_type": "stream",
     "text": [
      "In file included from input_line_8:2:\n",
      "In file included from ../feltor/inc/dg/algorithm.h:8:\n",
      "\u001b[1m../feltor/inc/dg/backend/config.h:20:9: \u001b[0m\u001b[0;1;35mwarning: \u001b[0m\u001b[1mNOTE: Fast std::fma(a,b,c) not activated! Using a*b+c instead! [-W#pragma-messages]\u001b[0m\n",
      "#pragma message( \"NOTE: Fast std::fma(a,b,c) not activated! Using a*b+c instead!\")\n",
      "\u001b[0;1;32m        ^\n",
      "\u001b[0mIn file included from input_line_8:2:\n",
      "In file included from ../feltor/inc/dg/algorithm.h:11:\n",
      "In file included from ../feltor/inc/dg/topology/split_and_join.h:4:\n",
      "In file included from ../feltor/inc/dg/backend/blas1_dispatch_shared.h:12:\n",
      "In file included from ../feltor/inc/dg/backend/blas1_serial.h:6:\n",
      "In file included from ../feltor/inc/dg/backend/exblas/exdot_serial.h:25:\n",
      "In file included from ../feltor/inc/dg/backend/exblas/accumulate.h:19:\n",
      "\u001b[1m../feltor/inc/dg/backend/exblas/config.h:31:9: \u001b[0m\u001b[0;1;35mwarning: \u001b[0m\u001b[1mWARNING: Instruction set below SSE4.1! Deactivating vectorization! [-W#pragma-messages]\u001b[0m\n",
      "#pragma message(\"WARNING: Instruction set below SSE4.1! Deactivating vectorization!\")\n",
      "\u001b[0;1;32m        ^\n",
      "\u001b[0mIn file included from input_line_8:2:\n",
      "In file included from ../feltor/inc/dg/algorithm.h:11:\n",
      "In file included from ../feltor/inc/dg/topology/split_and_join.h:4:\n",
      "In file included from ../feltor/inc/dg/backend/blas1_dispatch_shared.h:12:\n",
      "In file included from ../feltor/inc/dg/backend/blas1_serial.h:6:\n",
      "In file included from ../feltor/inc/dg/backend/exblas/exdot_serial.h:25:\n",
      "\u001b[1m../feltor/inc/dg/backend/exblas/accumulate.h:93:43: \u001b[0m\u001b[0;1;35mwarning: \u001b[0m\u001b[1mshifting a negative signed value is undefined [-Wshift-negative-value]\u001b[0m\n",
      "        carrybit = (s ? 1ll << KRX : -1ll << KRX);\n",
      "\u001b[0;1;32m                                     ~~~~ ^\n",
      "\u001b[0mIn file included from input_line_8:2:\n",
      "In file included from ../feltor/inc/dg/algorithm.h:11:\n",
      "In file included from ../feltor/inc/dg/topology/split_and_join.h:4:\n",
      "In file included from ../feltor/inc/dg/backend/blas1_dispatch_shared.h:12:\n",
      "In file included from ../feltor/inc/dg/backend/blas1_serial.h:6:\n",
      "In file included from ../feltor/inc/dg/backend/exblas/exdot_serial.h:26:\n",
      "\u001b[1m../feltor/inc/dg/backend/exblas/ExSUM.FPE.hpp:143:46: \u001b[0m\u001b[0;1;35mwarning: \u001b[0m\u001b[1munknown attribute 'optimize' ignored [-Wunknown-attributes]\u001b[0m\n",
      "template<typename T, int N, typename TRAITS> UNROLL_ATTRIBUTE\n",
      "\u001b[0;1;32m                                             ^\n",
      "\u001b[0m\u001b[1m../feltor/inc/dg/backend/exblas/config.h:42:41: \u001b[0m\u001b[0;1;30mnote: \u001b[0mexpanded from macro 'UNROLL_ATTRIBUTE'\u001b[0m\n",
      "#define UNROLL_ATTRIBUTE __attribute__((optimize(\"unroll-loops\")))\n",
      "\u001b[0;1;32m                                        ^\n",
      "\u001b[0mIn file included from input_line_8:2:\n",
      "In file included from ../feltor/inc/dg/algorithm.h:11:\n",
      "In file included from ../feltor/inc/dg/topology/split_and_join.h:4:\n",
      "In file included from ../feltor/inc/dg/backend/blas1_dispatch_shared.h:12:\n",
      "In file included from ../feltor/inc/dg/backend/blas1_serial.h:6:\n",
      "In file included from ../feltor/inc/dg/backend/exblas/exdot_serial.h:26:\n",
      "\u001b[1m../feltor/inc/dg/backend/exblas/ExSUM.FPE.hpp:189:46: \u001b[0m\u001b[0;1;35mwarning: \u001b[0m\u001b[1munknown attribute 'optimize' ignored [-Wunknown-attributes]\u001b[0m\n",
      "template<typename T, int N, typename TRAITS> UNROLL_ATTRIBUTE\n",
      "\u001b[0;1;32m                                             ^\n",
      "\u001b[0m\u001b[1m../feltor/inc/dg/backend/exblas/config.h:42:41: \u001b[0m\u001b[0;1;30mnote: \u001b[0mexpanded from macro 'UNROLL_ATTRIBUTE'\u001b[0m\n",
      "#define UNROLL_ATTRIBUTE __attribute__((optimize(\"unroll-loops\")))\n",
      "\u001b[0;1;32m                                        ^\n",
      "\u001b[0mIn file included from input_line_8:2:\n",
      "In file included from ../feltor/inc/dg/algorithm.h:11:\n",
      "In file included from ../feltor/inc/dg/topology/split_and_join.h:4:\n",
      "In file included from ../feltor/inc/dg/backend/blas1_dispatch_shared.h:12:\n",
      "In file included from ../feltor/inc/dg/backend/blas1_serial.h:6:\n",
      "In file included from ../feltor/inc/dg/backend/exblas/exdot_serial.h:26:\n",
      "\u001b[1m../feltor/inc/dg/backend/exblas/ExSUM.FPE.hpp:221:46: \u001b[0m\u001b[0;1;35mwarning: \u001b[0m\u001b[1munknown attribute 'optimize' ignored [-Wunknown-attributes]\u001b[0m\n",
      "template<typename T, int N, typename TRAITS> UNROLL_ATTRIBUTE\n",
      "\u001b[0;1;32m                                             ^\n",
      "\u001b[0m\u001b[1m../feltor/inc/dg/backend/exblas/config.h:42:41: \u001b[0m\u001b[0;1;30mnote: \u001b[0mexpanded from macro 'UNROLL_ATTRIBUTE'\u001b[0m\n",
      "#define UNROLL_ATTRIBUTE __attribute__((optimize(\"unroll-loops\")))\n",
      "\u001b[0;1;32m                                        ^\n",
      "\u001b[0m"
     ]
    }
   ],
   "source": [
    "#pragma cling add_include_path(\"../../include\")\n",
    "#pragma cling add_include_path(\"../feltor/inc\") // Feltor path\n",
    "#define THRUST_DEVICE_SYSTEM THRUST_DEVICE_SYSTEM_CPP\n",
    "#include <iostream>\n",
    "#include \"dg/algorithm.h\""
   ]
  },
  {
   "cell_type": "markdown",
   "id": "0f7b70db",
   "metadata": {},
   "source": [
    "# Timesteppers\n",
    "This chapter deals with how to integrate differential equations of the form\n",
    "\\begin{align}\n",
    "M(y,t) \\frac{d}{dt}y = F(y,t)\n",
    "\\end{align}\n",
    "where $M$ is the mass matrix and $F$ is the right hand side.\n",
    "\n",
    "## Overview\n",
    "Generally we need three things to solve an ODE numerically \n",
    " - **the stepper method** (there are several stepper classes each coming with a range of tableaus to chose from: Runge Kutta vs Multistep, explicit vs implicit and more) e.g. `dg::ExplicitMultistep<Vector>`\n",
    " - **the ode itself**, this has to be provided by the user as the right hand side functor or tuple of functors including the solver method if an implicit stepper is used and then tied to a single object typically using `std::tie`, e.g. `std::tie( ex, im, solve);`\n",
    " - **the timeloop** (adaptive timestep vs fixed timestep) -> can be implemented by the user or in Feltor represented by an instance of `dg::aTimeloop` class (useful if one wants to choose a method at runtime) e.g. `dg::AdaptiveTimeloop<Vector>`. The timeloop includes the **initial condition** and the integration boundaries (these are the paramters to the integrate function) `timeloop.integrate( t0, u0, t1, u1);`\n",
    " .\n",
    "\n",
    "The `dg` library provides a wide selection of explicit, implicit and imex timesteppers:\n",
    "- `dg::ERKStep` embedded Runge Kutta\n",
    "- `dg::DIRKStep` diagonally implicit Runge Kutta\n",
    "- `dg::ARKStep` additive Runge Kutta (imex)\n",
    "- `dg::ExplicitMultistep`\n",
    "- `dg::ImplicitMultistep`\n",
    "- `dg::ImExMultistep`\n",
    "-  see [doxygen documentation](https://feltor-dev.github.io/doc/dg/html/group__time.html) for a full list\n",
    "\n",
    "The `dg::ERKStep`, `dg::DIRKStep` and `dg::ARKStep` (and in general any embedded method) can be used as a driver for an adaptive Timestepper\n",
    "- `dg::Adaptive`\n",
    "```{admonition} Vector type\n",
    "All of the above classes are templates of the Vector type in use. Chosing an appropriate type for the integration variable(s) is usually the first decision to make when implementing a differential equation. Anything that works in the `dg::blas1` functions is allowed so check out the [Vectors](sec:vectors) chapter.\n",
    "```\n",
    "\n",
    "\n",
    "In order to implement any Runge-Kutta or multistep algorithm we need to be able to solve two general types of equations (see [theory guide on overleaf](https://www.overleaf.com/read/dfxncmnnpzfm)):\n",
    "\\begin{align}\n",
    "    k =  M(y,t)^{-1} \\cdot F(y,t) &\\text{ given $t,y$ return $k$} \\\\\n",
    "    M(y,t)\\cdot ( y-y^*) - \\alpha F(y,t) = 0 &\\text{ given $\\alpha, t, y^*$ return $y$} \n",
    "\\end{align}\n",
    "For any explicit (part of the) equation we need to solve the first and for any implicit (part of the) equation  we need to solve both the first and the second equation.\n",
    "````{note}\n",
    "It is important to realize that the timestepper needs to know neither $F$ nor $M$, nor how they are implemented or how the implicit equation is solved.\n",
    "The user just needs to provide oblique functor\n",
    "objects with the signature\n",
    "```cpp\n",
    "// given t y write ydot\n",
    "void operator()( value_type t, const ContainerType0& y, ContainerType1& ydot);\n",
    "// given \\alpha, t and y^* write a new y\n",
    "void operator()( value_type alpha, value_type t, ContainerType& y, const ContainerType1& ystar);\n",
    "```\n",
    "````\n",
    "More than one functor is needed for implicit or semi-implicit timesteppers. These are then expected as a `std::tuple` of functors.\n",
    "Typically one would use `std::tie` to tie together two or more objects into a functor.\n",
    "\n",
    "The timesteppers themselves are implemented using `dg::blas1` vector additions and all have a `step` method that advances the ode for one timestep\n",
    "```cpp\n",
    "dirk.step( std::tie( implicit_part, solver), t0, y0, t1, y1, dt);\n",
    "```\n",
    "This step method can be called in a loop to advance the ode for an arbitrary time. Or you can use one of the `dg::aTimeloop` classes\n",
    "- `dg::AdaptiveTimeloop`\n",
    "- `dg::SinglestepTimeloop`\n",
    "- `dg::MultistepTimeloop`\n",
    "\n",
    "These classes abstract the integration loop and can be called via a common interface\n",
    "```cpp\n",
    "timeloop.integrate( t0, y0, t1, y1);\n",
    "```\n",
    "This is useful especially if you want to choose various timesteppers at runtime.\n",
    "\n",
    " \n",
    "We will now study a few case scenarios to clarify the above explanations."
   ]
  },
  {
   "cell_type": "markdown",
   "id": "5ba773be",
   "metadata": {},
   "source": [
    "## Integrate ODEs in Feltor - first timesteppers and simple time loops\n",
    "\n",
    "As an example we solve the damped driven harmonic oscillator\n",
    "\\begin{align}\n",
    "    \\frac{d x}{d t} &= v \\\\\n",
    "    \\frac{d v}{d t} &= -2 \\nu \\omega_0 v - \\omega_0^2 x + \\sin (\\omega_d t)\n",
    "\\end{align}\n",
    "Since we have two scalar variables we will use a `std::array<double,2>` as the vector type to use.\n",
    "Let us first choose some (somewhat random) parameters"
   ]
  },
  {
   "cell_type": "code",
   "execution_count": 2,
   "id": "d0c6a737",
   "metadata": {},
   "outputs": [],
   "source": [
    "const double damping = 0.2, omega_0 = 1.0, omega_drive = 0.9;"
   ]
  },
  {
   "cell_type": "markdown",
   "id": "117b477e",
   "metadata": {},
   "source": [
    "We know that we can solve this ODE analytically. This comes in handy to verify our implementation."
   ]
  },
  {
   "cell_type": "code",
   "execution_count": 3,
   "id": "b165dfe2",
   "metadata": {},
   "outputs": [],
   "source": [
    "// We have an analytical solution\n",
    "std::array<double,2> solution( double t)\n",
    "{\n",
    "    double tmp1 = (2.*omega_0*damping);\n",
    "    double tmp2 = (omega_0*omega_0 - omega_drive*omega_drive)/omega_drive;\n",
    "    double amp = 1./sqrt( tmp1*tmp1 + tmp2*tmp2);\n",
    "    double phi = atan( 2.*omega_drive*omega_0*damping/(omega_drive*omega_drive-omega_0*omega_0));\n",
    "    double x = amp*sin(omega_drive*t+phi)/omega_drive;\n",
    "    double v = amp*cos(omega_drive*t+phi);\n",
    "    return {x,v};\n",
    "}"
   ]
  },
  {
   "cell_type": "markdown",
   "id": "e9990027",
   "metadata": {},
   "source": [
    "### Explicit Runge-Kutta - fixed step\n",
    "\n",
    "First, show how to implement a simple timeloop with a fixed stepsize Runge Kutta integrator. We choose the classic 4-th order scheme, but consult the [documentation](https://feltor-dev.github.io/doc/dg/html/group__time.html) for an extensive list of available tableaus."
   ]
  },
  {
   "cell_type": "code",
   "execution_count": 4,
   "id": "5c8f83af",
   "metadata": {},
   "outputs": [
    {
     "name": "stdout",
     "output_type": "stream",
     "text": [
      "Norm of error is 8.17315e-08\n"
     ]
    }
   ],
   "source": [
    "// The right hand side needs to be a callable function in Feltor.\n",
    "// In modern C++ this can for example be a lambda function:\n",
    "auto rhs = [&]( double t, const std::array<double,2>& y,\n",
    "            std::array<double,2>& yp)\n",
    "{\n",
    "    //damped driven harmonic oscillator\n",
    "    // x -> y[0] , v -> y[1]\n",
    "    yp[0] = y[1];\n",
    "    yp[1] = -2.*damping*omega_0*y[1] - omega_0*omega_0*y[0]\n",
    "            + sin(omega_drive*t);\n",
    "};\n",
    "// Let us choose an initial condition and the integration boundaries\n",
    "double t0 = 0., t1 = 1.;\n",
    "const std::array<double,2> u0 = solution(t0);\n",
    "\n",
    "// Here, we choose the classic Runge-Kutta scheme to solve\n",
    "dg::RungeKutta<std::array<double,2>> rk(\"Runge-Kutta-4-4\", u0);\n",
    "// Now we are ready to construct a time-loop by repeatedly stepping\n",
    "// the Runge Kutta solve with a constant timestep\n",
    "double t = t0;\n",
    "std::array<double,2> u1( u0);\n",
    "unsigned N = 20;\n",
    "for( unsigned i=0; i<N; i++)\n",
    "    rk.step( rhs, t, u1, t, u1, (t1-t0)/(double)N );\n",
    "\n",
    "// Now let us compute the error\n",
    "const std::array<double,2> sol = solution(t1);\n",
    "dg::blas1::axpby( 1., sol , -1., u1);\n",
    "std::cout << \"Norm of error is \" <<sqrt(dg::blas1::dot( u1, u1))<<\"\\n\";"
   ]
  },
  {
   "cell_type": "markdown",
   "id": "2c7e4e4b",
   "metadata": {},
   "source": [
    "```{note}\n",
    "Notice how the above program consists of the three mentioned ingredients. We wrote the ode as a single functor `rhs` expecting to use the explicit single step Runge Kutta method `dg::RungeKutta`. We then wrote a timeloop starting from the solution at time `t0`.\n",
    "```\n",
    "```{seealso}\n",
    "Lambdas are so useful that they appear at several places in the user-guide and the `dg` library generally accepts them in many places. If you are not familiar with them, a good start is to watch youtube! For example [Lambdas from Scratch - Arthur O'Dwye](https://www.youtube.com/watch?v=3jCOwajNch0)\n",
    "```\n",
    "\n",
    "### Implicit Multistep  - fixed step\n",
    "In the next example we want to solve the same ode with an implicit multistep method:"
   ]
  },
  {
   "cell_type": "code",
   "execution_count": 5,
   "id": "9dba09cb",
   "metadata": {},
   "outputs": [
    {
     "name": "stdout",
     "output_type": "stream",
     "text": [
      "Norm of error is 3.60666e-05\n"
     ]
    }
   ],
   "source": [
    "// First we need to provide a solution method for the prototypical implicit equation\n",
    "auto solve = [&]( double alpha, double t, std::array<double,2>& y,\n",
    "            const std::array<double,2>& yp)\n",
    "{\n",
    "    // y - alpha RHS( t, y) = rho\n",
    "    // can be solved analytically\n",
    "    y[1] = ( yp[1] + alpha*sin(omega_drive*t) - alpha*omega_0*omega_0*yp[0])/\n",
    "           (1.+2.*alpha*damping*omega_0+alpha*alpha*omega_0*omega_0);\n",
    "    y[0] = yp[0] + alpha*y[1];\n",
    "};\n",
    "// Now we can construct a multistep method\n",
    "dg::ImplicitMultistep<std::array<double,2>> multi(\"ImEx-BDF-3-3\", u0);\n",
    "// Let us choose the same initial conditions as before\n",
    "t = t0; u1 = u0;\n",
    "// Finally, we can construct a timeloop\n",
    "multi.init( std::tie( rhs, solve), t, u0, (t1-t0)/(double)N);\n",
    "for( unsigned i=0; i<N; i++)\n",
    "    multi.step( std::tie(rhs, solve), t, u1);\n",
    "\n",
    "dg::blas1::axpby( 1., sol , -1., u1);\n",
    "std::cout << \"Norm of error is \" <<sqrt(dg::blas1::dot( u1, u1))<<\"\\n\";\n",
    "//dg::make_odeint( dirk, std::tie( rhs, solve), (t1-t0)/20.)->integrate( t0, u0, t1, u1);"
   ]
  },
  {
   "cell_type": "markdown",
   "id": "826836e0",
   "metadata": {},
   "source": [
    "```{note}\n",
    "Notice the use of `std::tie` in the `init` and `step` methods. Since an implicit method needs both the implicit part `rhs` and an implicit solver `solve` to solve it.\n",
    "```"
   ]
  },
  {
   "cell_type": "markdown",
   "id": "a3b33e06",
   "metadata": {},
   "source": [
    "### Embedded explicit Runge Kutta - adaptive step\n",
    "As a last example we want to integrate the ode with an adaptive timestepper"
   ]
  },
  {
   "cell_type": "code",
   "execution_count": 6,
   "id": "da6561cd",
   "metadata": {},
   "outputs": [
    {
     "name": "stdout",
     "output_type": "stream",
     "text": [
      "Norm of error is 2.66678e-07 with 8 steps \n"
     ]
    }
   ],
   "source": [
    "dg::Adaptive<dg::ERKStep<std::array<double,2>>> adapt(\"Tsitouras11-7-4-5\", u0);\n",
    "t = t0; u1 = u0;\n",
    "double dt = 1e-6;\n",
    "while( t < t1)\n",
    "{\n",
    "    if( t + dt > t1)\n",
    "        dt = t1 - t;\n",
    "    adapt.step( rhs, t, u1, t, u1, dt, dg::pid_control, dg::fast_l2norm, 1e-6, 1e-6);\n",
    "}\n",
    "    \n",
    "dg::blas1::axpby( 1., sol , -1., u1);\n",
    "std::cout << \"Norm of error is \" <<sqrt(dg::blas1::dot( u1, u1))\n",
    "    <<\" with \"<<adapt.nsteps()<<\" steps \\n\";"
   ]
  },
  {
   "cell_type": "markdown",
   "id": "8d3aa211",
   "metadata": {},
   "source": [
    "## Abstract timeloops with dg::aTimeloop\n",
    "We have seen that the main difference between the three previous methods was how to construct the timeloop. Runge-Kutta was just a basic for loop, Multistep needed to be initialized before usage, while the adaptive stepper needed to run in a while loop and needed a bunch of additional parameters. We will now introduce\n",
    "an abstract interface that lets you choose at runtime which integration method to use:"
   ]
  },
  {
   "cell_type": "markdown",
   "id": "2ece32c7",
   "metadata": {},
   "source": [
    "```cpp\n",
    "using Vec = std::array<double,2>;\n",
    "const unsigned* nsteps;\n",
    "\n",
    "std::string stepper = \"Adaptive\";\n",
    "std::cin >> stepper;\n",
    "\n",
    "// A pointer to an abstract integrator\n",
    "auto odeint = std::unique_ptr<dg::aTimeloop<Vec>>();\n",
    "\n",
    "if( \"Adaptive\" == stepper)\n",
    "{\n",
    "    dg::Adaptive<dg::ERKStep<Vec>> adapt(\"Tsitouras11-7-4-5\", u0);\n",
    "    odeint = std::make_unique<dg::AdaptiveTimeloop<Vec>>( adapt,\n",
    "                rhs, dg::pid_control, dg::fast_l2norm, 1e-6, 1e-6);\n",
    "    nsteps = &adapt.nsteps();\n",
    "}\n",
    "else if( \"Singlestep\" == stepper)\n",
    "{\n",
    "    dg::RungeKutta<Vec> rk(\"Runge-Kutta-4-4\", u0);\n",
    "    odeint = std::make_unique<dg::SinglestepTimeloop<Vec>>( rk, \n",
    "                                         rhs, (t1-t0)/(double)N);\n",
    "    nsteps = &N;\n",
    "}\n",
    "else if( \"Multistep\" == stepper)\n",
    "{\n",
    "    dg::ExplicitMultistep<Vec> multi( \"ImEx-BDF-3-3\", u0);\n",
    "    odeint = std::make_unique<dg::MultistepTimeloop<Vec>>( multi,\n",
    "                        rhs, t0, u0, (t1-t0)/(double)N);\n",
    "    nsteps = &N;\n",
    "}\n",
    "else\n",
    "    std::cerr << \"Stepper \"<<stepper<<\" not known!\\n\";\n",
    "\n",
    "odeint -> integrate(t0, u0, t1, u1);\n",
    "\n",
    "dg::blas1::axpby( 1., sol , -1., u1);\n",
    "std::cout << \"Norm of error is \" <<sqrt(dg::blas1::dot( u1, u1))\n",
    "    <<\" with \"<<*nsteps<<\" steps \\n\";\n",
    "```"
   ]
  },
  {
   "cell_type": "markdown",
   "id": "91962288",
   "metadata": {},
   "source": [
    "In order to build more complicated examples we will first need to learn how geometry and derivatives work and how we can build advanced solvers. We will revisit the timesteppers in [Section PDEs](sec:pdes)."
   ]
  },
  {
   "cell_type": "markdown",
   "id": "c522ae08",
   "metadata": {},
   "source": [
    "## Integrating DAEs - solver only implicit integrators\n",
    "Consider the van der Pol oscillator\n",
    "\n",
    "\\begin{align}\n",
    "    \\dot x &= v \\\\\n",
    "    \\dot v &= \\sigma ( 1-x^2) v -x\n",
    " \\end{align}\n",
    " where $\\sigma$ represents the stiffness parameter. For\n",
    "very large values these equations become **differential-algebraic equations of index 1** (which is easily seen if one divides by sigma and sets $1/\\sigma = 0$, the remaining equation does not have derivatives, hence algebraic, index 1 means it is solvable). \n",
    "It is then a singular perturbation problem.\n",
    "This behaviour is difficult for time-integrators insofar it reduces the error of the method to its so-called _stage-order_.\n",
    "\n",
    "Furthermore, for higher $\\sigma$ it becomes paramount to use implicit integrators and sometimes it might be desirable to completely avoid any explicit stage altogether (recall that for example EDIRK schems have an explicit first stage). For this reason the doxygen documentation highlights implicit integrators of that sort:\n",
    "- all of the implicit multistep methods avoid calling the rhs directly, however, currently only the `dg::BDF_X_X` schemes can avoid it in the initialization phase as well\n",
    "- of the DIRK schemes only the SDIRK and symplectic DIRK schemes do not call the rhs.\n",
    "\n",
    "This means for such schemes we only need to implement a single functor, namely one that solves\n",
    "\\begin{align}\n",
    "    M(y,t)\\cdot ( y-y^*) - \\alpha F(y,t) = 0 &\\text{ given $\\alpha, t, y^*$ return $y$} \n",
    "\\end{align}\n"
   ]
  },
  {
   "cell_type": "markdown",
   "id": "7a1bd13e",
   "metadata": {},
   "source": [
    "Here we outline the structure of a possible implementation\n",
    "```cpp\n",
    "\n",
    "struct VanderPolSolver\n",
    "{\n",
    "     void operator()( double alpha, double t, std::array<double,2>& y, const std::array<double,2>& yp)\n",
    "     {\n",
    "         // solve y - alpha F(y,t) = yp\n",
    "     }\n",
    "}\n",
    "\n",
    "auto doNotCall = [](double t, const auto& x, auto& y)\n",
    "{\n",
    "    // Just to be entirely certain\n",
    "    assert(false && \"This should never be called!\");\n",
    "}\n",
    "\n",
    "VanderPolSolver solver( ...);\n",
    "dg::DIRKStep<Vec> dirk( \"SDIRK-4-2-3\", y0);\n",
    "\n",
    "odeint = std::make_unique<dg::SinglestepTimeloop<Vec>>( dirk,\n",
    "                                                       std::tie( doNotCall, solver),\n",
    "                                                       (t1-t0)/(double)N);\n",
    "odeint -> integrate(t0, u0, t1, u1);\n",
    "```"
   ]
  },
  {
   "cell_type": "markdown",
   "id": "ce60d86d",
   "metadata": {},
   "source": []
  }
 ],
 "metadata": {
  "celltoolbar": "Tags",
  "kernelspec": {
   "display_name": "C++14",
   "language": "C++14",
   "name": "xcpp14"
  },
  "language_info": {
   "codemirror_mode": "text/x-c++src",
   "file_extension": ".cpp",
   "mimetype": "text/x-c++src",
   "name": "c++",
   "version": "14"
  }
 },
 "nbformat": 4,
 "nbformat_minor": 5
}
